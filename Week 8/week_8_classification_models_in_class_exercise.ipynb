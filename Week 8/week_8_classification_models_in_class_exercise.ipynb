{
 "cells": [
  {
   "cell_type": "markdown",
   "id": "8d2c9bba-b826-4ca2-bb18-e9b181787de9",
   "metadata": {
    "id": "8d2c9bba-b826-4ca2-bb18-e9b181787de9"
   },
   "source": [
    "# Intro to Data Science\n",
    "\n",
    "## Week 8: Classification Models\n",
    "\n",
    "### In-class Exercise"
   ]
  },
  {
   "cell_type": "markdown",
   "id": "de764f4d-fc0c-4988-9f6a-2385f7b3eaaa",
   "metadata": {
    "id": "de764f4d-fc0c-4988-9f6a-2385f7b3eaaa"
   },
   "source": [
    "For this exercise, we will use the Diabetes Health Indicators Dataset from Kaggle, derived from the 2015 Behavioral Risk Factor Surveillance System (BRFSS) survey. The goal of this exercise is to provide hands-on experience in predicting diabetes using health-related features such as BMI, physical activity, and blood pressure. The datasets include a multiclass dataset with three stages of diabetes (no diabetes, prediabetes, and diabetes). These datasets offer valuable insights into identifying factors associated with diabetes and can be used to build classification models for prediction.\n",
    "\n",
    "Dataset can also be downloaded from Kaggle: https://www.kaggle.com/datasets/alexteboul/diabetes-health-indicators-dataset/data"
   ]
  },
  {
   "cell_type": "markdown",
   "id": "bf6cbc49-ae10-4bb4-9530-f697c98ae8af",
   "metadata": {
    "id": "bf6cbc49-ae10-4bb4-9530-f697c98ae8af"
   },
   "source": [
    "### Task 1: Load the dataset"
   ]
  },
  {
   "cell_type": "code",
   "execution_count": 4,
   "id": "06e3efe5-c93a-40d7-a1f0-df98c2c0b78e",
   "metadata": {
    "id": "06e3efe5-c93a-40d7-a1f0-df98c2c0b78e"
   },
   "outputs": [
    {
     "data": {
      "text/html": [
       "<div>\n",
       "<style scoped>\n",
       "    .dataframe tbody tr th:only-of-type {\n",
       "        vertical-align: middle;\n",
       "    }\n",
       "\n",
       "    .dataframe tbody tr th {\n",
       "        vertical-align: top;\n",
       "    }\n",
       "\n",
       "    .dataframe thead th {\n",
       "        text-align: right;\n",
       "    }\n",
       "</style>\n",
       "<table border=\"1\" class=\"dataframe\">\n",
       "  <thead>\n",
       "    <tr style=\"text-align: right;\">\n",
       "      <th></th>\n",
       "      <th>Diabetes_012</th>\n",
       "      <th>HighBP</th>\n",
       "      <th>HighChol</th>\n",
       "      <th>CholCheck</th>\n",
       "      <th>BMI</th>\n",
       "      <th>Smoker</th>\n",
       "      <th>Stroke</th>\n",
       "      <th>HeartDiseaseorAttack</th>\n",
       "      <th>PhysActivity</th>\n",
       "      <th>Fruits</th>\n",
       "      <th>...</th>\n",
       "      <th>AnyHealthcare</th>\n",
       "      <th>NoDocbcCost</th>\n",
       "      <th>GenHlth</th>\n",
       "      <th>MentHlth</th>\n",
       "      <th>PhysHlth</th>\n",
       "      <th>DiffWalk</th>\n",
       "      <th>Sex</th>\n",
       "      <th>Age</th>\n",
       "      <th>Education</th>\n",
       "      <th>Income</th>\n",
       "    </tr>\n",
       "  </thead>\n",
       "  <tbody>\n",
       "    <tr>\n",
       "      <th>0</th>\n",
       "      <td>0</td>\n",
       "      <td>1.0</td>\n",
       "      <td>1.0</td>\n",
       "      <td>1.0</td>\n",
       "      <td>40.0</td>\n",
       "      <td>1.0</td>\n",
       "      <td>0.0</td>\n",
       "      <td>0.0</td>\n",
       "      <td>0.0</td>\n",
       "      <td>0.0</td>\n",
       "      <td>...</td>\n",
       "      <td>1.0</td>\n",
       "      <td>0.0</td>\n",
       "      <td>5.0</td>\n",
       "      <td>18.0</td>\n",
       "      <td>15.0</td>\n",
       "      <td>1.0</td>\n",
       "      <td>0.0</td>\n",
       "      <td>9.0</td>\n",
       "      <td>4.0</td>\n",
       "      <td>3.0</td>\n",
       "    </tr>\n",
       "    <tr>\n",
       "      <th>1</th>\n",
       "      <td>0</td>\n",
       "      <td>0.0</td>\n",
       "      <td>0.0</td>\n",
       "      <td>0.0</td>\n",
       "      <td>25.0</td>\n",
       "      <td>1.0</td>\n",
       "      <td>0.0</td>\n",
       "      <td>0.0</td>\n",
       "      <td>1.0</td>\n",
       "      <td>0.0</td>\n",
       "      <td>...</td>\n",
       "      <td>0.0</td>\n",
       "      <td>1.0</td>\n",
       "      <td>3.0</td>\n",
       "      <td>0.0</td>\n",
       "      <td>0.0</td>\n",
       "      <td>0.0</td>\n",
       "      <td>0.0</td>\n",
       "      <td>7.0</td>\n",
       "      <td>6.0</td>\n",
       "      <td>1.0</td>\n",
       "    </tr>\n",
       "    <tr>\n",
       "      <th>2</th>\n",
       "      <td>0</td>\n",
       "      <td>1.0</td>\n",
       "      <td>1.0</td>\n",
       "      <td>1.0</td>\n",
       "      <td>28.0</td>\n",
       "      <td>0.0</td>\n",
       "      <td>0.0</td>\n",
       "      <td>0.0</td>\n",
       "      <td>0.0</td>\n",
       "      <td>1.0</td>\n",
       "      <td>...</td>\n",
       "      <td>1.0</td>\n",
       "      <td>1.0</td>\n",
       "      <td>5.0</td>\n",
       "      <td>30.0</td>\n",
       "      <td>30.0</td>\n",
       "      <td>1.0</td>\n",
       "      <td>0.0</td>\n",
       "      <td>9.0</td>\n",
       "      <td>4.0</td>\n",
       "      <td>8.0</td>\n",
       "    </tr>\n",
       "    <tr>\n",
       "      <th>3</th>\n",
       "      <td>0</td>\n",
       "      <td>1.0</td>\n",
       "      <td>0.0</td>\n",
       "      <td>1.0</td>\n",
       "      <td>27.0</td>\n",
       "      <td>0.0</td>\n",
       "      <td>0.0</td>\n",
       "      <td>0.0</td>\n",
       "      <td>1.0</td>\n",
       "      <td>1.0</td>\n",
       "      <td>...</td>\n",
       "      <td>1.0</td>\n",
       "      <td>0.0</td>\n",
       "      <td>2.0</td>\n",
       "      <td>0.0</td>\n",
       "      <td>0.0</td>\n",
       "      <td>0.0</td>\n",
       "      <td>0.0</td>\n",
       "      <td>11.0</td>\n",
       "      <td>3.0</td>\n",
       "      <td>6.0</td>\n",
       "    </tr>\n",
       "    <tr>\n",
       "      <th>4</th>\n",
       "      <td>0</td>\n",
       "      <td>1.0</td>\n",
       "      <td>1.0</td>\n",
       "      <td>1.0</td>\n",
       "      <td>24.0</td>\n",
       "      <td>0.0</td>\n",
       "      <td>0.0</td>\n",
       "      <td>0.0</td>\n",
       "      <td>1.0</td>\n",
       "      <td>1.0</td>\n",
       "      <td>...</td>\n",
       "      <td>1.0</td>\n",
       "      <td>0.0</td>\n",
       "      <td>2.0</td>\n",
       "      <td>3.0</td>\n",
       "      <td>0.0</td>\n",
       "      <td>0.0</td>\n",
       "      <td>0.0</td>\n",
       "      <td>11.0</td>\n",
       "      <td>5.0</td>\n",
       "      <td>4.0</td>\n",
       "    </tr>\n",
       "  </tbody>\n",
       "</table>\n",
       "<p>5 rows × 22 columns</p>\n",
       "</div>"
      ],
      "text/plain": [
       "   Diabetes_012  HighBP  HighChol  CholCheck   BMI  Smoker  Stroke  \\\n",
       "0             0     1.0       1.0        1.0  40.0     1.0     0.0   \n",
       "1             0     0.0       0.0        0.0  25.0     1.0     0.0   \n",
       "2             0     1.0       1.0        1.0  28.0     0.0     0.0   \n",
       "3             0     1.0       0.0        1.0  27.0     0.0     0.0   \n",
       "4             0     1.0       1.0        1.0  24.0     0.0     0.0   \n",
       "\n",
       "   HeartDiseaseorAttack  PhysActivity  Fruits  ...  AnyHealthcare  \\\n",
       "0                   0.0           0.0     0.0  ...            1.0   \n",
       "1                   0.0           1.0     0.0  ...            0.0   \n",
       "2                   0.0           0.0     1.0  ...            1.0   \n",
       "3                   0.0           1.0     1.0  ...            1.0   \n",
       "4                   0.0           1.0     1.0  ...            1.0   \n",
       "\n",
       "   NoDocbcCost  GenHlth  MentHlth  PhysHlth  DiffWalk  Sex   Age  Education  \\\n",
       "0          0.0      5.0      18.0      15.0       1.0  0.0   9.0        4.0   \n",
       "1          1.0      3.0       0.0       0.0       0.0  0.0   7.0        6.0   \n",
       "2          1.0      5.0      30.0      30.0       1.0  0.0   9.0        4.0   \n",
       "3          0.0      2.0       0.0       0.0       0.0  0.0  11.0        3.0   \n",
       "4          0.0      2.0       3.0       0.0       0.0  0.0  11.0        5.0   \n",
       "\n",
       "   Income  \n",
       "0     3.0  \n",
       "1     1.0  \n",
       "2     8.0  \n",
       "3     6.0  \n",
       "4     4.0  \n",
       "\n",
       "[5 rows x 22 columns]"
      ]
     },
     "execution_count": 4,
     "metadata": {},
     "output_type": "execute_result"
    }
   ],
   "source": [
    "import pandas as pd\n",
    "\n",
    "# Load the dataset (replace 'filename.csv' with the correct file name)\n",
    "# Example: For the balanced binary dataset\n",
    "file_path = 'https://raw.githubusercontent.com/hurcmi/VADSTI_Spring_2025/refs/heads/main/Week%208/diabetes_012_health_indicators_BRFSS2015.csv'\n",
    "\n",
    "# Read the CSV file into a DataFrame\n",
    "df = pd.read_csv(file_path)\n",
    "\n",
    "# Convert the target column to integer\n",
    "df['Diabetes_012'] = df['Diabetes_012'].astype('int')\n",
    "\n",
    "# Display the first few rows of the DataFrame\n",
    "df.head()"
   ]
  },
  {
   "cell_type": "markdown",
   "id": "513f94a6-62ea-4343-baf5-1b5f237bfd45",
   "metadata": {
    "id": "513f94a6-62ea-4343-baf5-1b5f237bfd45"
   },
   "source": [
    "### Task 2: Exploratory Data Analysis\n",
    "\n",
    "Explore the data, find the count of each class, and do some basic statistical analysis. Visualization of the data using libraries like matplotlib or seaborn can be helpful."
   ]
  },
  {
   "cell_type": "code",
   "execution_count": null,
   "id": "a2a7f0e7-cf6d-432e-ac81-6ec239167ba3",
   "metadata": {
    "id": "a2a7f0e7-cf6d-432e-ac81-6ec239167ba3"
   },
   "outputs": [],
   "source": [
    "import matplotlib.pyplot as plt\n",
    "\n",
    "#### Code goes below #######\n",
    "\n"
   ]
  },
  {
   "cell_type": "markdown",
   "id": "88742c2c-ac0e-42c9-a591-c85cb7897ee3",
   "metadata": {
    "id": "88742c2c-ac0e-42c9-a591-c85cb7897ee3"
   },
   "source": [
    "### Task 3: Pre-processing"
   ]
  },
  {
   "cell_type": "markdown",
   "id": "69cc31de-6caa-4304-b819-05f83b92d28d",
   "metadata": {
    "id": "69cc31de-6caa-4304-b819-05f83b92d28d"
   },
   "source": [
    "Convert the dataset to a standard form using the StandardScaler() class in sklearn.preprocessing"
   ]
  },
  {
   "cell_type": "code",
   "execution_count": null,
   "id": "e7394558-0f5a-4969-ab6f-609e769ad044",
   "metadata": {
    "id": "e7394558-0f5a-4969-ab6f-609e769ad044"
   },
   "outputs": [],
   "source": [
    "from sklearn.preprocessing import StandardScaler\n",
    "\n",
    "####### code goes below ###########\n"
   ]
  },
  {
   "cell_type": "markdown",
   "id": "33f961ba-9752-47b7-aa48-19242972034f",
   "metadata": {
    "id": "33f961ba-9752-47b7-aa48-19242972034f"
   },
   "source": [
    "### Task 4: Train-test split"
   ]
  },
  {
   "cell_type": "markdown",
   "id": "fc3e1742-e35d-4c95-a559-65878008e61d",
   "metadata": {
    "id": "fc3e1742-e35d-4c95-a559-65878008e61d"
   },
   "source": [
    "Split the datset into training and test sets"
   ]
  },
  {
   "cell_type": "code",
   "execution_count": null,
   "id": "3296646b-88d5-4bf5-87c5-f4236a83a7e7",
   "metadata": {
    "id": "3296646b-88d5-4bf5-87c5-f4236a83a7e7"
   },
   "outputs": [],
   "source": [
    "from sklearn.model_selection import train_test_split\n",
    "\n",
    "##### code goes below ###########\n",
    "\n"
   ]
  },
  {
   "cell_type": "markdown",
   "id": "41e321bc-55f7-4bcd-88d2-57e42b50cd01",
   "metadata": {
    "id": "41e321bc-55f7-4bcd-88d2-57e42b50cd01"
   },
   "source": [
    "#### Task 4: Model building\n",
    "\n",
    "Implement any 2 out of 4 models discussed in class.  Models such as: KNN, Logistic Regression, Naive Bayes, and Decision Trees."
   ]
  },
  {
   "cell_type": "code",
   "execution_count": null,
   "id": "cfc31844-4125-4332-a1d3-924d9c730efd",
   "metadata": {
    "id": "cfc31844-4125-4332-a1d3-924d9c730efd"
   },
   "outputs": [],
   "source": [
    "from sklearn.linear_model import LogisticRegression\n",
    "from sklearn.neighbors import KNeighborsClassifier\n",
    "from sklearn.tree import DecisionTreeClassifier\n",
    "from sklearn.naive_bayes import GaussianNB"
   ]
  },
  {
   "cell_type": "markdown",
   "id": "059a851d-07ac-4c9a-84d7-2b37c11ab1ea",
   "metadata": {
    "id": "059a851d-07ac-4c9a-84d7-2b37c11ab1ea"
   },
   "source": [
    "### Task 4: Model Evaluation\n",
    "\n",
    "Evaluate the performance of the developed model using metrics such as accuracy, precision, recall, and F-1 score."
   ]
  },
  {
   "cell_type": "code",
   "execution_count": null,
   "id": "7f5c5122-6ebf-46ba-884a-80fe64bc6666",
   "metadata": {
    "id": "7f5c5122-6ebf-46ba-884a-80fe64bc6666"
   },
   "outputs": [],
   "source": [
    "from sklearn.metrics import accuracy_score, precision_score, recall_score, f1_score\n",
    "\n",
    "##### code goes below ###########\n",
    "\n"
   ]
  },
  {
   "cell_type": "code",
   "execution_count": null,
   "id": "6d1bcacf-19ed-4aed-bbfd-86e77fd19e51",
   "metadata": {},
   "outputs": [],
   "source": []
  }
 ],
 "metadata": {
  "colab": {
   "provenance": []
  },
  "kernelspec": {
   "display_name": "Python 3 (ipykernel)",
   "language": "python",
   "name": "python3"
  },
  "language_info": {
   "codemirror_mode": {
    "name": "ipython",
    "version": 3
   },
   "file_extension": ".py",
   "mimetype": "text/x-python",
   "name": "python",
   "nbconvert_exporter": "python",
   "pygments_lexer": "ipython3",
   "version": "3.10.9"
  }
 },
 "nbformat": 4,
 "nbformat_minor": 5
}
