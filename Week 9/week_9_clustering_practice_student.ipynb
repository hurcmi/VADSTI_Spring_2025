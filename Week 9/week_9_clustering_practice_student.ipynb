{
 "cells": [
  {
   "cell_type": "markdown",
   "id": "3011270c",
   "metadata": {},
   "source": [
    "\n",
    "# Week 9: Clustering Models - Practice Exercises (Student Version)\n",
    "\n",
    "This notebook contains hands-on exercises designed to help you practice and apply clustering techniques.  \n",
    "You will encounter **partially completed code cells** that require your input to complete the tasks.  \n",
    "Instructions and hints are provided to guide you through each step.\n",
    "\n",
    "---\n"
   ]
  },
  {
   "cell_type": "markdown",
   "id": "cfdb0918",
   "metadata": {},
   "source": [
    "\n",
    "## Exercise 1: k-Means Clustering on Iris Dataset\n",
    "\n",
    "### Task:\n",
    "\n",
    "1. Load the **Iris dataset**.\n",
    "2. Apply **k-Means clustering** with 3 clusters.\n",
    "3. Visualize the clusters (hint: scatter plot using two features).\n",
    "4. Use the **Elbow method** to determine the optimal number of clusters.\n",
    "5. Evaluate clustering performance using **Silhouette Score**.\n",
    "\n",
    "### Starter Code:\n"
   ]
  },
  {
   "cell_type": "code",
   "execution_count": null,
   "id": "0abd3e84",
   "metadata": {},
   "outputs": [],
   "source": [
    "\n",
    "from sklearn.datasets import load_iris\n",
    "from sklearn.cluster import KMeans\n",
    "from sklearn.metrics import silhouette_score\n",
    "import matplotlib.pyplot as plt\n",
    "import seaborn as sns\n",
    "import pandas as pd\n",
    "\n",
    "# Step 1: Load the dataset\n",
    "iris = load_iris()\n",
    "X = pd.DataFrame(iris.data, columns=iris.feature_names)\n",
    "\n",
    "# Step 2: Apply k-Means clustering\n",
    "# Fill in the code below\n",
    "kmeans = KMeans(n_clusters=____, random_state=42)\n",
    "labels = kmeans.fit_predict(X)\n",
    "\n",
    "# Step 3: Visualize clusters\n",
    "sns.scatterplot(x=X.iloc[:, 0], y=X.iloc[:, 1], hue=labels, palette='deep')\n",
    "plt.title('k-Means Clustering on Iris Dataset')\n",
    "plt.show()\n",
    "\n",
    "# Step 4: Use the Elbow method to determine optimal k\n",
    "inertia = []\n",
    "k_range = range(1, 10)\n",
    "for k in k_range:\n",
    "    kmeans = KMeans(n_clusters=k, random_state=42)\n",
    "    kmeans.fit(X)\n",
    "    inertia.append(kmeans.inertia_)\n",
    "\n",
    "plt.plot(k_range, inertia, 'bo-')\n",
    "plt.xlabel('Number of Clusters (k)')\n",
    "plt.ylabel('Inertia')\n",
    "plt.title('Elbow Method for Optimal k')\n",
    "plt.show()\n",
    "\n",
    "# Step 5: Calculate Silhouette Score\n",
    "print(\"Silhouette Score:\", silhouette_score(X, labels))\n"
   ]
  },
  {
   "cell_type": "markdown",
   "id": "934b9fdb",
   "metadata": {},
   "source": [
    "\n",
    "## Exercise 2: DBSCAN on a Noisy Dataset\n",
    "\n",
    "### Task:\n",
    "\n",
    "1. Generate a synthetic dataset using `make_moons` with noise.\n",
    "2. Apply **DBSCAN clustering**.\n",
    "3. Visualize the clusters and noise points.\n",
    "4. Experiment by changing `eps` and `min_samples` values.\n",
    "\n",
    "### Starter Code:\n"
   ]
  },
  {
   "cell_type": "code",
   "execution_count": null,
   "id": "49a7222b",
   "metadata": {},
   "outputs": [],
   "source": [
    "\n",
    "from sklearn.datasets import make_moons\n",
    "from sklearn.cluster import DBSCAN\n",
    "\n",
    "# Step 1: Generate synthetic dataset\n",
    "X, _ = make_moons(n_samples=300, noise=0.05, random_state=0)\n",
    "\n",
    "# Step 2: Apply DBSCAN clustering\n",
    "# Fill in the missing parameters\n",
    "dbscan = DBSCAN(eps=____, min_samples=____)\n",
    "labels = dbscan.fit_predict(X)\n",
    "\n",
    "# Step 3: Visualize clusters\n",
    "plt.scatter(X[:, 0], X[:, 1], c=labels, cmap='viridis')\n",
    "plt.title('DBSCAN Clustering on Noisy Dataset')\n",
    "plt.show()\n"
   ]
  },
  {
   "cell_type": "markdown",
   "id": "05717e73",
   "metadata": {},
   "source": [
    "\n",
    "## Exercise 3: Dimensionality Reduction + Clustering\n",
    "\n",
    "### Task:\n",
    "\n",
    "1. Load the **Breast Cancer dataset**.\n",
    "2. Apply **PCA** to reduce dimensions to 2.\n",
    "3. Apply **k-Means clustering** on reduced data.\n",
    "4. Visualize clusters.\n",
    "5. Evaluate using **Silhouette Score**.\n",
    "\n",
    "### Starter Code:\n"
   ]
  },
  {
   "cell_type": "code",
   "execution_count": null,
   "id": "35a9d65d",
   "metadata": {},
   "outputs": [],
   "source": [
    "\n",
    "from sklearn.datasets import load_breast_cancer\n",
    "from sklearn.decomposition import PCA\n",
    "\n",
    "# Step 1: Load Breast Cancer dataset\n",
    "data = load_breast_cancer()\n",
    "X = pd.DataFrame(data.data, columns=data.feature_names)\n",
    "\n",
    "# Step 2: Apply PCA\n",
    "pca = PCA(n_components=____)\n",
    "X_pca = pca.fit_transform(X)\n",
    "\n",
    "# Step 3: Apply k-Means clustering\n",
    "kmeans = KMeans(n_clusters=____, random_state=42)\n",
    "labels = kmeans.fit_predict(X_pca)\n",
    "\n",
    "# Step 4: Visualize\n",
    "plt.scatter(X_pca[:, 0], X_pca[:, 1], c=labels, cmap='coolwarm')\n",
    "plt.title('k-Means Clustering after PCA')\n",
    "plt.show()\n",
    "\n",
    "# Step 5: Evaluate clustering\n",
    "from sklearn.metrics import silhouette_score\n",
    "print(\"Silhouette Score:\", silhouette_score(X_pca, labels))\n"
   ]
  }
 ],
 "metadata": {
  "kernelspec": {
   "display_name": "Python [conda env:anaconda3-Test]",
   "language": "python",
   "name": "conda-env-anaconda3-Test-py"
  },
  "language_info": {
   "codemirror_mode": {
    "name": "ipython",
    "version": 3
   },
   "file_extension": ".py",
   "mimetype": "text/x-python",
   "name": "python",
   "nbconvert_exporter": "python",
   "pygments_lexer": "ipython3",
   "version": "3.11.7"
  }
 },
 "nbformat": 4,
 "nbformat_minor": 5
}
