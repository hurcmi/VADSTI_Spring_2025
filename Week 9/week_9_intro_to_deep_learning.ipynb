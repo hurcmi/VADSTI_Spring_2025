{
 "cells": [
  {
   "cell_type": "markdown",
   "id": "80827a53",
   "metadata": {},
   "source": [
    "\n",
    "# Introduction to Deep Learning\n",
    "\n",
    "Welcome to your first exposure to **Deep Learning**!\n",
    "\n",
    "This notebook will introduce:\n",
    "- What Deep Learning is\n",
    "- How it differs from traditional machine learning\n",
    "- Neural network basics\n",
    "- Simple implementation of a neural network using Keras and TensorFlow\n",
    "\n",
    "**Learning Objectives:**\n",
    "1. Understand the core concept of deep learning and neural networks.\n",
    "2. Get familiar with the structure of a neural network (layers, neurons, activation functions).\n",
    "3. Train a simple neural network on image data.\n"
   ]
  },
  {
   "cell_type": "markdown",
   "id": "92a84832",
   "metadata": {},
   "source": [
    "\n",
    "## What is Deep Learning?\n",
    "\n",
    "**Deep Learning** is a subset of machine learning that uses algorithms called **artificial neural networks**, designed to mimic the way humans think and learn.\n",
    "\n",
    "Key points:\n",
    "- It is particularly useful for complex data like images, audio, and text.\n",
    "- It automatically extracts features from raw data.\n",
    "- Requires large amounts of data and computational resources.\n",
    "\n",
    "### Difference from Traditional Machine Learning:\n",
    "| Traditional Machine Learning | Deep Learning |\n",
    "|------------------------------|--------------|\n",
    "| Requires manual feature extraction | Learns features automatically |\n",
    "| Works well with small to medium data | Works well with large datasets |\n",
    "| Examples: Logistic Regression, k-NN | Examples: Neural Networks, CNNs, RNNs |\n"
   ]
  },
  {
   "attachments": {},
   "cell_type": "markdown",
   "id": "00b2f37f",
   "metadata": {},
   "source": [
    "\n",
    "## Neural Network Basics\n",
    "\n",
    "### Components:\n",
    "1. **Input Layer**: Receives input data.\n",
    "2. **Hidden Layers**: Perform computations, can be multiple layers.\n",
    "3. **Output Layer**: Produces final output (class label, regression value, etc.).\n",
    "4. **Weights & Biases**: Parameters learned during training.\n",
    "5. **Activation Functions**: Introduce non-linearity (e.g., ReLU, Sigmoid).\n",
    "\n",
    "### Visual Overview:\n",
    "\n",
    "```\n",
    "Input Layer --> Hidden Layer(s) --> Output Layer\n",
    "```\n",
    "![image.png](attachment:d05fc3fd-b69e-48de-a695-8f0163c604d4.png)\n",
    "\n",
    "### Common Activation Functions:\n",
    "- **ReLU**: `max(0, x)`\n",
    "- **Sigmoid**: Output between 0 and 1\n"
   ]
  },
  {
   "cell_type": "code",
   "execution_count": 10,
   "id": "0f3566be-63ee-45e0-9825-827992ed8dce",
   "metadata": {},
   "outputs": [
    {
     "name": "stdout",
     "output_type": "stream",
     "text": [
      "Requirement already satisfied: tensorflow in /Users/enwafor/opt/anaconda3/lib/python3.9/site-packages (2.15.0)\n",
      "Requirement already satisfied: h5py>=2.9.0 in /Users/enwafor/opt/anaconda3/lib/python3.9/site-packages (from tensorflow) (3.7.0)\n",
      "Requirement already satisfied: grpcio<2.0,>=1.24.3 in /Users/enwafor/opt/anaconda3/lib/python3.9/site-packages (from tensorflow) (1.58.0)\n",
      "Requirement already satisfied: flatbuffers>=23.5.26 in /Users/enwafor/opt/anaconda3/lib/python3.9/site-packages (from tensorflow) (23.5.26)\n",
      "Requirement already satisfied: wrapt<1.15,>=1.11.0 in /Users/enwafor/opt/anaconda3/lib/python3.9/site-packages (from tensorflow) (1.14.1)\n",
      "Requirement already satisfied: packaging in /Users/enwafor/opt/anaconda3/lib/python3.9/site-packages (from tensorflow) (21.3)\n",
      "Requirement already satisfied: termcolor>=1.1.0 in /Users/enwafor/opt/anaconda3/lib/python3.9/site-packages (from tensorflow) (2.4.0)\n",
      "Requirement already satisfied: typing-extensions>=3.6.6 in /Users/enwafor/opt/anaconda3/lib/python3.9/site-packages (from tensorflow) (4.7.1)\n",
      "Requirement already satisfied: absl-py>=1.0.0 in /Users/enwafor/opt/anaconda3/lib/python3.9/site-packages (from tensorflow) (2.1.0)\n",
      "Requirement already satisfied: ml-dtypes~=0.2.0 in /Users/enwafor/opt/anaconda3/lib/python3.9/site-packages (from tensorflow) (0.2.0)\n",
      "Requirement already satisfied: libclang>=13.0.0 in /Users/enwafor/opt/anaconda3/lib/python3.9/site-packages (from tensorflow) (16.0.6)\n",
      "Requirement already satisfied: keras<2.16,>=2.15.0 in /Users/enwafor/opt/anaconda3/lib/python3.9/site-packages (from tensorflow) (2.15.0)\n",
      "Requirement already satisfied: numpy<2.0.0,>=1.23.5 in /Users/enwafor/opt/anaconda3/lib/python3.9/site-packages (from tensorflow) (1.24.4)\n",
      "Requirement already satisfied: tensorflow-io-gcs-filesystem>=0.23.1 in /Users/enwafor/opt/anaconda3/lib/python3.9/site-packages (from tensorflow) (0.36.0)\n",
      "Requirement already satisfied: protobuf!=4.21.0,!=4.21.1,!=4.21.2,!=4.21.3,!=4.21.4,!=4.21.5,<5.0.0dev,>=3.20.3 in /Users/enwafor/opt/anaconda3/lib/python3.9/site-packages (from tensorflow) (3.20.3)\n",
      "Requirement already satisfied: six>=1.12.0 in /Users/enwafor/opt/anaconda3/lib/python3.9/site-packages (from tensorflow) (1.16.0)\n",
      "Requirement already satisfied: tensorflow-estimator<2.16,>=2.15.0 in /Users/enwafor/opt/anaconda3/lib/python3.9/site-packages (from tensorflow) (2.15.0)\n",
      "Requirement already satisfied: tensorboard<2.16,>=2.15 in /Users/enwafor/opt/anaconda3/lib/python3.9/site-packages (from tensorflow) (2.15.2)\n",
      "Requirement already satisfied: google-pasta>=0.1.1 in /Users/enwafor/opt/anaconda3/lib/python3.9/site-packages (from tensorflow) (0.2.0)\n",
      "Requirement already satisfied: opt-einsum>=2.3.2 in /Users/enwafor/opt/anaconda3/lib/python3.9/site-packages (from tensorflow) (3.3.0)\n",
      "Requirement already satisfied: setuptools in /Users/enwafor/opt/anaconda3/lib/python3.9/site-packages (from tensorflow) (63.4.1)\n",
      "Requirement already satisfied: astunparse>=1.6.0 in /Users/enwafor/opt/anaconda3/lib/python3.9/site-packages (from tensorflow) (1.6.3)\n",
      "Requirement already satisfied: gast!=0.5.0,!=0.5.1,!=0.5.2,>=0.2.1 in /Users/enwafor/opt/anaconda3/lib/python3.9/site-packages (from tensorflow) (0.5.4)\n",
      "Requirement already satisfied: wheel<1.0,>=0.23.0 in /Users/enwafor/opt/anaconda3/lib/python3.9/site-packages (from astunparse>=1.6.0->tensorflow) (0.37.1)\n",
      "Requirement already satisfied: requests<3,>=2.21.0 in /Users/enwafor/opt/anaconda3/lib/python3.9/site-packages (from tensorboard<2.16,>=2.15->tensorflow) (2.28.1)\n",
      "Requirement already satisfied: google-auth-oauthlib<2,>=0.5 in /Users/enwafor/opt/anaconda3/lib/python3.9/site-packages (from tensorboard<2.16,>=2.15->tensorflow) (1.2.0)\n",
      "Requirement already satisfied: markdown>=2.6.8 in /Users/enwafor/opt/anaconda3/lib/python3.9/site-packages (from tensorboard<2.16,>=2.15->tensorflow) (3.3.4)\n",
      "Requirement already satisfied: google-auth<3,>=1.6.3 in /Users/enwafor/opt/anaconda3/lib/python3.9/site-packages (from tensorboard<2.16,>=2.15->tensorflow) (2.28.0)\n",
      "Requirement already satisfied: werkzeug>=1.0.1 in /Users/enwafor/opt/anaconda3/lib/python3.9/site-packages (from tensorboard<2.16,>=2.15->tensorflow) (2.0.3)\n",
      "Requirement already satisfied: tensorboard-data-server<0.8.0,>=0.7.0 in /Users/enwafor/opt/anaconda3/lib/python3.9/site-packages (from tensorboard<2.16,>=2.15->tensorflow) (0.7.2)\n",
      "Requirement already satisfied: pyparsing!=3.0.5,>=2.0.2 in /Users/enwafor/opt/anaconda3/lib/python3.9/site-packages (from packaging->tensorflow) (3.0.9)\n",
      "Requirement already satisfied: pyasn1-modules>=0.2.1 in /Users/enwafor/opt/anaconda3/lib/python3.9/site-packages (from google-auth<3,>=1.6.3->tensorboard<2.16,>=2.15->tensorflow) (0.2.8)\n",
      "Requirement already satisfied: rsa<5,>=3.1.4 in /Users/enwafor/opt/anaconda3/lib/python3.9/site-packages (from google-auth<3,>=1.6.3->tensorboard<2.16,>=2.15->tensorflow) (4.9)\n",
      "Requirement already satisfied: cachetools<6.0,>=2.0.0 in /Users/enwafor/opt/anaconda3/lib/python3.9/site-packages (from google-auth<3,>=1.6.3->tensorboard<2.16,>=2.15->tensorflow) (5.3.2)\n",
      "Requirement already satisfied: requests-oauthlib>=0.7.0 in /Users/enwafor/opt/anaconda3/lib/python3.9/site-packages (from google-auth-oauthlib<2,>=0.5->tensorboard<2.16,>=2.15->tensorflow) (1.3.1)\n",
      "Requirement already satisfied: urllib3<1.27,>=1.21.1 in /Users/enwafor/opt/anaconda3/lib/python3.9/site-packages (from requests<3,>=2.21.0->tensorboard<2.16,>=2.15->tensorflow) (1.26.16)\n",
      "Requirement already satisfied: idna<4,>=2.5 in /Users/enwafor/opt/anaconda3/lib/python3.9/site-packages (from requests<3,>=2.21.0->tensorboard<2.16,>=2.15->tensorflow) (3.3)\n",
      "Requirement already satisfied: charset-normalizer<3,>=2 in /Users/enwafor/opt/anaconda3/lib/python3.9/site-packages (from requests<3,>=2.21.0->tensorboard<2.16,>=2.15->tensorflow) (2.0.4)\n",
      "Requirement already satisfied: certifi>=2017.4.17 in /Users/enwafor/opt/anaconda3/lib/python3.9/site-packages (from requests<3,>=2.21.0->tensorboard<2.16,>=2.15->tensorflow) (2022.9.24)\n",
      "Requirement already satisfied: pyasn1<0.5.0,>=0.4.6 in /Users/enwafor/opt/anaconda3/lib/python3.9/site-packages (from pyasn1-modules>=0.2.1->google-auth<3,>=1.6.3->tensorboard<2.16,>=2.15->tensorflow) (0.4.8)\n",
      "Requirement already satisfied: oauthlib>=3.0.0 in /Users/enwafor/opt/anaconda3/lib/python3.9/site-packages (from requests-oauthlib>=0.7.0->google-auth-oauthlib<2,>=0.5->tensorboard<2.16,>=2.15->tensorflow) (3.2.2)\n"
     ]
    }
   ],
   "source": [
    "#install tensorflow\n",
    "!pip install tensorflow"
   ]
  },
  {
   "cell_type": "code",
   "execution_count": 11,
   "id": "eaae6375",
   "metadata": {},
   "outputs": [
    {
     "ename": "ModuleNotFoundError",
     "evalue": "No module named 'tensorflow'",
     "output_type": "error",
     "traceback": [
      "\u001b[0;31m---------------------------------------------------------------------------\u001b[0m",
      "\u001b[0;31mModuleNotFoundError\u001b[0m                       Traceback (most recent call last)",
      "Cell \u001b[0;32mIn[11], line 2\u001b[0m\n\u001b[1;32m      1\u001b[0m \u001b[38;5;66;03m# Import necessary libraries\u001b[39;00m\n\u001b[0;32m----> 2\u001b[0m \u001b[38;5;28;01mimport\u001b[39;00m \u001b[38;5;21;01mtensorflow\u001b[39;00m \u001b[38;5;28;01mas\u001b[39;00m \u001b[38;5;21;01mtf\u001b[39;00m\n\u001b[1;32m      3\u001b[0m \u001b[38;5;28;01mfrom\u001b[39;00m \u001b[38;5;21;01mtensorflow\u001b[39;00m\u001b[38;5;21;01m.\u001b[39;00m\u001b[38;5;21;01mkeras\u001b[39;00m\u001b[38;5;21;01m.\u001b[39;00m\u001b[38;5;21;01mmodels\u001b[39;00m \u001b[38;5;28;01mimport\u001b[39;00m Sequential\n\u001b[1;32m      4\u001b[0m \u001b[38;5;28;01mfrom\u001b[39;00m \u001b[38;5;21;01mtensorflow\u001b[39;00m\u001b[38;5;21;01m.\u001b[39;00m\u001b[38;5;21;01mkeras\u001b[39;00m\u001b[38;5;21;01m.\u001b[39;00m\u001b[38;5;21;01mlayers\u001b[39;00m \u001b[38;5;28;01mimport\u001b[39;00m Dense, Flatten\n",
      "\u001b[0;31mModuleNotFoundError\u001b[0m: No module named 'tensorflow'"
     ]
    }
   ],
   "source": [
    "# Import necessary libraries\n",
    "import tensorflow as tf\n",
    "from tensorflow.keras.models import Sequential\n",
    "from tensorflow.keras.layers import Dense, Flatten\n",
    "from tensorflow.keras.datasets import mnist\n",
    "import matplotlib.pyplot as plt\n"
   ]
  },
  {
   "cell_type": "markdown",
   "id": "03c657b2",
   "metadata": {},
   "source": [
    "\n",
    "## MNIST Dataset\n",
    "\n",
    "We will use the MNIST dataset, which contains 70,000 grayscale images of handwritten digits (0-9).\n",
    "\n",
    "Each image is **28x28 pixels**.\n",
    "\n",
    "### Let's load and visualize the data:\n"
   ]
  },
  {
   "cell_type": "code",
   "execution_count": null,
   "id": "8179bb3e",
   "metadata": {},
   "outputs": [],
   "source": [
    "\n",
    "# Load MNIST data\n",
    "(X_train, y_train), (X_test, y_test) = mnist.load_data()\n",
    "\n",
    "# Visualize one image\n",
    "plt.imshow(X_train[0], cmap='gray')\n",
    "plt.title(f\"Label: {y_train[0]}\")\n",
    "plt.show()\n"
   ]
  },
  {
   "cell_type": "markdown",
   "id": "3d7e29d8",
   "metadata": {},
   "source": [
    "\n",
    "## Data Preprocessing\n",
    "\n",
    "Before training, we need to normalize the image data.\n"
   ]
  },
  {
   "cell_type": "code",
   "execution_count": null,
   "id": "156a7a30",
   "metadata": {},
   "outputs": [],
   "source": [
    "\n",
    "# Normalize pixel values to [0, 1]\n",
    "X_train = X_train / 255.0\n",
    "X_test = X_test / 255.0\n"
   ]
  },
  {
   "cell_type": "markdown",
   "id": "15ac8dc1",
   "metadata": {},
   "source": [
    "\n",
    "## Building a Simple Neural Network\n",
    "\n",
    "We will build a basic neural network with:\n",
    "- Input Layer (flattened)\n",
    "- One Hidden Layer with ReLU activation\n",
    "- Output Layer with Softmax activation for multi-class classification\n"
   ]
  },
  {
   "cell_type": "code",
   "execution_count": null,
   "id": "5917668a",
   "metadata": {},
   "outputs": [],
   "source": [
    "\n",
    "# Build model\n",
    "model = Sequential([\n",
    "    Flatten(input_shape=(28, 28)),\n",
    "    Dense(128, activation='relu'),\n",
    "    Dense(10, activation='softmax')  # 10 classes (digits 0-9)\n",
    "])\n",
    "\n",
    "# Compile model\n",
    "model.compile(optimizer='adam', loss='sparse_categorical_crossentropy', metrics=['accuracy'])\n",
    "\n",
    "# Summary\n",
    "model.summary()\n"
   ]
  },
  {
   "cell_type": "markdown",
   "id": "b083cec6",
   "metadata": {},
   "source": [
    "\n",
    "## Training the Neural Network\n"
   ]
  },
  {
   "cell_type": "code",
   "execution_count": null,
   "id": "ca4422a9",
   "metadata": {},
   "outputs": [],
   "source": [
    "\n",
    "# Train the model\n",
    "history = model.fit(X_train, y_train, epochs=5, validation_split=0.1)\n"
   ]
  },
  {
   "cell_type": "markdown",
   "id": "e4790402",
   "metadata": {},
   "source": [
    "\n",
    "## Evaluating Model Performance\n"
   ]
  },
  {
   "cell_type": "code",
   "execution_count": null,
   "id": "55413a5b",
   "metadata": {},
   "outputs": [],
   "source": [
    "\n",
    "# Evaluate on test data\n",
    "test_loss, test_acc = model.evaluate(X_test, y_test)\n",
    "print(f\"Test Accuracy: {test_acc:.2f}\")\n"
   ]
  },
  {
   "cell_type": "markdown",
   "id": "0d7298fa",
   "metadata": {
    "jp-MarkdownHeadingCollapsed": true
   },
   "source": [
    "\n",
    "## Summary\n",
    "\n",
    "- Deep Learning uses neural networks to automatically learn patterns from large datasets.\n",
    "- We built a simple feedforward neural network to classify handwritten digits.\n",
    "- Next steps:\n",
    "  - Experiment with adding more layers.\n",
    "  - Try different activation functions.\n",
    "\n"
   ]
  },
  {
   "cell_type": "code",
   "execution_count": null,
   "id": "187fb0e5-f279-44dc-94fe-543b8f45e6d4",
   "metadata": {},
   "outputs": [],
   "source": []
  }
 ],
 "metadata": {
  "kernelspec": {
   "display_name": "Python 3 (ipykernel)",
   "language": "python",
   "name": "python3"
  },
  "language_info": {
   "codemirror_mode": {
    "name": "ipython",
    "version": 3
   },
   "file_extension": ".py",
   "mimetype": "text/x-python",
   "name": "python",
   "nbconvert_exporter": "python",
   "pygments_lexer": "ipython3",
   "version": "3.10.9"
  }
 },
 "nbformat": 4,
 "nbformat_minor": 5
}
