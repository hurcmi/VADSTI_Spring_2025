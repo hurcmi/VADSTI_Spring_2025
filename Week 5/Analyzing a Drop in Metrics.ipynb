{
 "cells": [
  {
   "cell_type": "code",
   "execution_count": 138,
   "id": "b6b88e8a",
   "metadata": {},
   "outputs": [],
   "source": [
    "# Import pandas for data manipulation and analysis\n",
    "import pandas as pd\n",
    "# Import numpy for numerical computations and random number generation\n",
    "import numpy as np\n",
    "# Import matplotlib.pyplot for basic plotting and visualization\n",
    "import matplotlib.pyplot as plt\n",
    "# Import seaborn for advanced statistical visualizations\n",
    "import seaborn as sns\n",
    "\n"
   ]
  },
  {
   "cell_type": "code",
   "execution_count": 139,
   "id": "2734be6f",
   "metadata": {},
   "outputs": [
    {
     "data": {
      "text/html": [
       "<div>\n",
       "<style scoped>\n",
       "    .dataframe tbody tr th:only-of-type {\n",
       "        vertical-align: middle;\n",
       "    }\n",
       "\n",
       "    .dataframe tbody tr th {\n",
       "        vertical-align: top;\n",
       "    }\n",
       "\n",
       "    .dataframe thead th {\n",
       "        text-align: right;\n",
       "    }\n",
       "</style>\n",
       "<table border=\"1\" class=\"dataframe\">\n",
       "  <thead>\n",
       "    <tr style=\"text-align: right;\">\n",
       "      <th></th>\n",
       "      <th>Date</th>\n",
       "      <th>Device</th>\n",
       "      <th>Region</th>\n",
       "      <th>VisitorType</th>\n",
       "      <th>AddToCart</th>\n",
       "      <th>Checkout</th>\n",
       "      <th>PaymentSuccess</th>\n",
       "      <th>Revenue</th>\n",
       "    </tr>\n",
       "  </thead>\n",
       "  <tbody>\n",
       "    <tr>\n",
       "      <th>0</th>\n",
       "      <td>2023-04-13</td>\n",
       "      <td>Mobile</td>\n",
       "      <td>Latin America</td>\n",
       "      <td>Returning_Visitor</td>\n",
       "      <td>True</td>\n",
       "      <td>True</td>\n",
       "      <td>True</td>\n",
       "      <td>26.176832</td>\n",
       "    </tr>\n",
       "    <tr>\n",
       "      <th>1</th>\n",
       "      <td>2024-03-11</td>\n",
       "      <td>Mobile</td>\n",
       "      <td>Europe</td>\n",
       "      <td>Returning_Visitor</td>\n",
       "      <td>True</td>\n",
       "      <td>True</td>\n",
       "      <td>True</td>\n",
       "      <td>45.758516</td>\n",
       "    </tr>\n",
       "    <tr>\n",
       "      <th>2</th>\n",
       "      <td>2023-09-28</td>\n",
       "      <td>Mobile</td>\n",
       "      <td>Asia</td>\n",
       "      <td>New_Visitor</td>\n",
       "      <td>True</td>\n",
       "      <td>True</td>\n",
       "      <td>False</td>\n",
       "      <td>0.000000</td>\n",
       "    </tr>\n",
       "    <tr>\n",
       "      <th>3</th>\n",
       "      <td>2023-04-17</td>\n",
       "      <td>Desktop</td>\n",
       "      <td>Latin America</td>\n",
       "      <td>Returning_Visitor</td>\n",
       "      <td>False</td>\n",
       "      <td>False</td>\n",
       "      <td>False</td>\n",
       "      <td>0.000000</td>\n",
       "    </tr>\n",
       "    <tr>\n",
       "      <th>4</th>\n",
       "      <td>2023-03-13</td>\n",
       "      <td>Mobile</td>\n",
       "      <td>Latin America</td>\n",
       "      <td>Returning_Visitor</td>\n",
       "      <td>True</td>\n",
       "      <td>True</td>\n",
       "      <td>True</td>\n",
       "      <td>125.179035</td>\n",
       "    </tr>\n",
       "  </tbody>\n",
       "</table>\n",
       "</div>"
      ],
      "text/plain": [
       "         Date   Device         Region        VisitorType  AddToCart  Checkout  \\\n",
       "0  2023-04-13   Mobile  Latin America  Returning_Visitor       True      True   \n",
       "1  2024-03-11   Mobile         Europe  Returning_Visitor       True      True   \n",
       "2  2023-09-28   Mobile           Asia        New_Visitor       True      True   \n",
       "3  2023-04-17  Desktop  Latin America  Returning_Visitor      False     False   \n",
       "4  2023-03-13   Mobile  Latin America  Returning_Visitor       True      True   \n",
       "\n",
       "   PaymentSuccess     Revenue  \n",
       "0            True   26.176832  \n",
       "1            True   45.758516  \n",
       "2           False    0.000000  \n",
       "3           False    0.000000  \n",
       "4            True  125.179035  "
      ]
     },
     "execution_count": 139,
     "metadata": {},
     "output_type": "execute_result"
    }
   ],
   "source": [
    "# Read the CSV file 'metrics_decline_data.csv' into a pandas DataFrame called 'data'\n",
    "data = pd.read_csv('metrics_decline_data.csv')\n",
    "\n",
    "# Display the first 5 rows of the DataFrame to quickly inspect the structure and sample values\n",
    "data.head()"
   ]
  },
  {
   "cell_type": "code",
   "execution_count": 140,
   "id": "0622228d",
   "metadata": {},
   "outputs": [
    {
     "data": {
      "text/plain": [
       "Index(['Date', 'Device', 'Region', 'VisitorType', 'AddToCart', 'Checkout',\n",
       "       'PaymentSuccess', 'Revenue'],\n",
       "      dtype='object')"
      ]
     },
     "execution_count": 140,
     "metadata": {},
     "output_type": "execute_result"
    }
   ],
   "source": [
    "data.columns"
   ]
  },
  {
   "cell_type": "markdown",
   "id": "1e13b1a0",
   "metadata": {},
   "source": [
    "Device:\n",
    "Indicates the type of device the user was using during the session. Typically, this is either \"Mobile\" or \"Desktop\".\n",
    "\n",
    "Region:\n",
    "Represents the geographical region of the user. This might be labeled as \"Europe\", \"North America\", \"Asia\", \"Latin America\", etc., and is used to segment data by location.\n",
    "\n",
    "VisitorType:\n",
    "Specifies whether the user is a new visitor or a returning visitor. This helps in understanding differences in behavior between first-time users and those who have visited before.\n",
    "\n",
    "AddToCart:\n",
    "A boolean flag that indicates if the user added an item to their shopping cart during the session. This is the first step in the conversion funnel.\n",
    "\n",
    "Checkout:\n",
    "A boolean flag that shows whether the user proceeded from adding an item to the cart to initiating the checkout process.\n",
    "\n",
    "PaymentSuccess:\n",
    "A boolean flag that indicates whether the payment process was successfully completed. This is typically the final step in the conversion funnel.\n",
    "\n",
    "Revenue:\n",
    "A continuous value representing the amount of money generated from the session. If the payment was successful, this value is usually a number within a set range (e.g., $20 to $200); if not, it’s zero.\n",
    "\n",
    "Year:\n",
    "The year part of the session's date, extracted for time-based analysis and segmentation.\n",
    "\n",
    "Month:\n",
    "The month part of the session's date, which can be used to study seasonal trends or patterns.\n",
    "\n",
    "Day:\n",
    "The day of the month from the session's date, useful for more granular time analysis.\n",
    "\n",
    "Conversion:\n",
    "A binary indicator (0 or 1) showing whether the session resulted in a conversion (typically defined as having a revenue greater than 0). This is useful for calculating overall conversion rates."
   ]
  },
  {
   "cell_type": "code",
   "execution_count": 141,
   "id": "dc24ba46",
   "metadata": {},
   "outputs": [
    {
     "name": "stdout",
     "output_type": "stream",
     "text": [
      "Categorical variables: ['AddToCart', 'Checkout', 'Date', 'Device', 'PaymentSuccess', 'Region', 'VisitorType']\n"
     ]
    }
   ],
   "source": [
    "#Identify columns with object or category types\n",
    "cat_vars = list(data.select_dtypes(include=['object', 'category']).columns)\n",
    "\n",
    "# Step 2: Include boolean columns (if you want them as categorical)\n",
    "bool_vars = list(data.select_dtypes(include=['bool']).columns)\n",
    "cat_vars.extend(bool_vars)\n",
    "\n",
    "# Step 3: Check numeric columns that might be categorical based on unique values\n",
    "# For example, if a numeric column has fewer than 20 unique values, consider it categorical.\n",
    "numeric_cols = data.select_dtypes(include=['int64', 'float64']).columns\n",
    "for col in numeric_cols:\n",
    "    if data[col].nunique() < 20:\n",
    "        cat_vars.append(col)\n",
    "\n",
    "# Remove duplicates (if any) and sort for clarity\n",
    "cat_vars = sorted(set(cat_vars))\n",
    "print(\"Categorical variables:\", cat_vars)"
   ]
  },
  {
   "cell_type": "code",
   "execution_count": 142,
   "id": "c361ff97",
   "metadata": {},
   "outputs": [
    {
     "name": "stdout",
     "output_type": "stream",
     "text": [
      "Numerical variables: ['Revenue']\n"
     ]
    }
   ],
   "source": [
    "# Identify all numeric columns\n",
    "num_vars = list(data.select_dtypes(include=['int64', 'float64']).columns)\n",
    "\n",
    "# Remove those that are already in our categorical variables list\n",
    "num_vars = [col for col in num_vars if col not in cat_vars]\n",
    "\n",
    "print(\"Numerical variables:\", num_vars)"
   ]
  },
  {
   "cell_type": "code",
   "execution_count": 143,
   "id": "250f7b1e",
   "metadata": {},
   "outputs": [
    {
     "name": "stdout",
     "output_type": "stream",
     "text": [
      "\n",
      "Dataset Info:\n",
      "<class 'pandas.core.frame.DataFrame'>\n",
      "RangeIndex: 5000 entries, 0 to 4999\n",
      "Data columns (total 8 columns):\n",
      " #   Column          Non-Null Count  Dtype  \n",
      "---  ------          --------------  -----  \n",
      " 0   Date            5000 non-null   object \n",
      " 1   Device          5000 non-null   object \n",
      " 2   Region          5000 non-null   object \n",
      " 3   VisitorType     5000 non-null   object \n",
      " 4   AddToCart       5000 non-null   bool   \n",
      " 5   Checkout        5000 non-null   bool   \n",
      " 6   PaymentSuccess  5000 non-null   bool   \n",
      " 7   Revenue         5000 non-null   float64\n",
      "dtypes: bool(3), float64(1), object(4)\n",
      "memory usage: 210.1+ KB\n",
      "None\n"
     ]
    }
   ],
   "source": [
    "# Get an overview of the dataset (structure, data types, and non-null counts)\n",
    "print(\"\\nDataset Info:\")\n",
    "print(data.info())"
   ]
  },
  {
   "cell_type": "code",
   "execution_count": 144,
   "id": "27adc17e",
   "metadata": {},
   "outputs": [
    {
     "data": {
      "image/png": "[encoded data removed]",
      "text/plain": [
       "<Figure size 432x288 with 1 Axes>"
      ]
     },
     "metadata": {
      "needs_background": "light"
     },
     "output_type": "display_data"
    },
    {
     "data": {
      "image/png": "[encoded data removed]",
      "text/plain": [
       "<Figure size 432x288 with 1 Axes>"
      ]
     },
     "metadata": {
      "needs_background": "light"
     },
     "output_type": "display_data"
    },
    {
     "data": {
      "image/png": "[encoded data removed]",
      "text/plain": [
       "<Figure size 432x288 with 1 Axes>"
      ]
     },
     "metadata": {
      "needs_background": "light"
     },
     "output_type": "display_data"
    },
    {
     "data": {
      "image/png": "[encoded data removed]",
      "text/plain": [
       "<Figure size 432x288 with 1 Axes>"
      ]
     },
     "metadata": {
      "needs_background": "light"
     },
     "output_type": "display_data"
    },
    {
     "data": {
      "image/png": "[encoded data removed]",
      "text/plain": [
       "<Figure size 432x288 with 1 Axes>"
      ]
     },
     "metadata": {
      "needs_background": "light"
     },
     "output_type": "display_data"
    },
    {
     "data": {
      "image/png": "[encoded data removed]",
      "text/plain": [
       "<Figure size 432x288 with 1 Axes>"
      ]
     },
     "metadata": {
      "needs_background": "light"
     },
     "output_type": "display_data"
    },
    {
     "data": {
      "image/png": "[encoded data removed]",
      "text/plain": [
       "<Figure size 432x288 with 1 Axes>"
      ]
     },
     "metadata": {
      "needs_background": "light"
     },
     "output_type": "display_data"
    },
    {
     "data": {
      "image/png": "[encoded data removed]",
      "text/plain": [
       "<Figure size 432x288 with 1 Axes>"
      ]
     },
     "metadata": {
      "needs_background": "light"
     },
     "output_type": "display_data"
    },
    {
     "data": {
      "image/png": "[encoded data removed]",
      "text/plain": [
       "<Figure size 432x288 with 1 Axes>"
      ]
     },
     "metadata": {
      "needs_background": "light"
     },
     "output_type": "display_data"
    }
   ],
   "source": [
    "# -------------------------\n",
    "# 1. Distributions for Categorical Variables\n",
    "# -------------------------\n",
    "# Loop over each variable in the list of categorical variables (cat_vars)\n",
    "for var in cat_vars:\n",
    "    # Create a new figure with a fixed size for each variable\n",
    "    plt.figure(figsize=(6,4))\n",
    "    # Create a count plot using seaborn for the categorical variable.\n",
    "    # This shows the frequency (i.e., count) of each unique category.\n",
    "    sns.countplot(data=data, x=var, palette='viridis')\n",
    "    # Set the plot title to indicate which variable is being visualized.\n",
    "    plt.title(f\"Distribution of {var}\")\n",
    "    # Rotate the x-axis labels by 45 degrees for better readability.\n",
    "    plt.xticks(rotation=45)\n",
    "    # Adjust the layout so that nothing overlaps.\n",
    "    plt.tight_layout()\n",
    "    # Display the plot.\n",
    "    plt.show()\n",
    "\n",
    "# -------------------------\n",
    "# 2. Distributions for Numerical Variables\n",
    "# -------------------------\n",
    "\n",
    "# Histograms for numerical variables (with a Kernel Density Estimate for a smoother curve)\n",
    "for var in num_vars:\n",
    "    # Create a new figure for each numerical variable.\n",
    "    plt.figure(figsize=(6,4))\n",
    "    # Use seaborn's histplot to plot the histogram of the variable.\n",
    "    # 'bins=20' sets the number of bins, and 'kde=True' overlays a KDE curve.\n",
    "    sns.histplot(data[var], bins=20, kde=True, color='steelblue')\n",
    "    # Set the plot title to indicate which numerical variable is visualized.\n",
    "    plt.title(f\"Histogram of {var}\")\n",
    "    # Label the x-axis with the variable name.\n",
    "    plt.xlabel(var)\n",
    "    # Label the y-axis as \"Frequency\" to indicate the count of observations.\n",
    "    plt.ylabel(\"Frequency\")\n",
    "    # Adjust the layout for a neat appearance.\n",
    "    plt.tight_layout()\n",
    "    # Display the plot.\n",
    "    plt.show()\n",
    "\n",
    "# Boxplots for numerical variables (to identify outliers and get a sense of the distribution's spread)\n",
    "for var in num_vars:\n",
    "    # Create a new figure for each boxplot.\n",
    "    plt.figure(figsize=(6,4))\n",
    "    # Use seaborn's boxplot to visualize the distribution.\n",
    "    # The boxplot shows the median, quartiles, and potential outliers.\n",
    "    sns.boxplot(x=data[var], color='salmon')\n",
    "    # Set the plot title.\n",
    "    plt.title(f\"Boxplot of {var}\")\n",
    "    # Adjust layout to prevent overlap.\n",
    "    plt.tight_layout()\n",
    "    # Display the plot.\n",
    "    plt.show()\n"
   ]
  },
  {
   "cell_type": "code",
   "execution_count": 145,
   "id": "12bcccf8",
   "metadata": {},
   "outputs": [
    {
     "data": {
      "image/png": "[encoded data removed]",
      "text/plain": [
       "<Figure size 864x360 with 1 Axes>"
      ]
     },
     "metadata": {
      "needs_background": "light"
     },
     "output_type": "display_data"
    },
    {
     "name": "stdout",
     "output_type": "stream",
     "text": [
      "Target Date Revenue: $20.24\n",
      "Average Revenue for Tuesday (excluding target date): $33.38\n"
     ]
    }
   ],
   "source": [
    "\n",
    "# Ensure 'Date' is in datetime format and set as index\n",
    "data['Date'] = pd.to_datetime(data['Date'])\n",
    "data.set_index('Date', inplace=True)\n",
    "\n",
    "# Aggregate average revenue per day\n",
    "daily_revenue = data['Revenue'].resample('D').mean().reset_index()\n",
    "\n",
    "# yesterday\n",
    "target_date = pd.Timestamp(\"2025-02-25\")  # Fixed date from our data generation\n",
    "\n",
    "# Visualize the daily average revenue over time\n",
    "plt.figure(figsize=(12, 5))\n",
    "plt.plot(daily_revenue['Date'], daily_revenue['Revenue'], marker='o', linestyle='-')\n",
    "plt.axvline(target_date, color='red', linestyle='--', label=f'Target Date: {target_date.date()}')\n",
    "plt.title(\"Average Revenue by Date\")\n",
    "plt.xlabel(\"Date\")\n",
    "plt.ylabel(\"Average Revenue\")\n",
    "plt.xticks(rotation=45)\n",
    "plt.legend()\n",
    "plt.tight_layout()\n",
    "plt.show()\n",
    "\n",
    "# Compare target date revenue to historical average (e.g., same day-of-week)\n",
    "# Let's extract the revenue for the target day and the same weekday for all weeks\n",
    "target_weekday = target_date.dayofweek\n",
    "daily_revenue['Weekday'] = daily_revenue['Date'].dt.dayofweek\n",
    "\n",
    "# Exclude the target date for computing the baseline average\n",
    "baseline_revenue = daily_revenue[daily_revenue['Date'] != target_date]\n",
    "avg_baseline = baseline_revenue[baseline_revenue['Weekday'] == target_weekday]['Revenue'].mean()\n",
    "\n",
    "target_revenue = daily_revenue[daily_revenue['Date'] == target_date]['Revenue'].values[0]\n",
    "print(f\"Target Date Revenue: ${target_revenue:.2f}\")\n",
    "print(f\"Average Revenue for {target_date.strftime('%A')} (excluding target date): ${avg_baseline:.2f}\")"
   ]
  },
  {
   "cell_type": "code",
   "execution_count": 105,
   "id": "a1e5b6b0",
   "metadata": {},
   "outputs": [
    {
     "name": "stdout",
     "output_type": "stream",
     "text": [
      "Average Revenue on February 25 by Year:\n",
      "   Year    Revenue\n",
      "0  2023  38.655379\n",
      "1  2024  47.383516\n",
      "2  2025  20.237566\n"
     ]
    },
    {
     "data": {
      "image/png": "[encoded data removed]",
      "text/plain": [
       "<Figure size 576x360 with 1 Axes>"
      ]
     },
     "metadata": {
      "needs_background": "light"
     },
     "output_type": "display_data"
    },
    {
     "name": "stdout",
     "output_type": "stream",
     "text": [
      "\n",
      "Revenue on target date 2025-02-25: $20.24\n",
      "Average revenue on Tuesday (excluding target date): $33.38\n"
     ]
    }
   ],
   "source": [
    "# Create additional columns for Year, Month, and Day for seasonal analysis\n",
    "data['Year'] = data.index.year\n",
    "data['Month'] = data.index.month\n",
    "data['Day'] = data.index.day\n",
    "\n",
    "# Filter data for the same month and day (i.e., the same date) across different years.\n",
    "# This assumes your dataset spans multiple years.\n",
    "seasonal_data = data[(data['Month'] == target_date.month) & (data['Day'] == target_date.day)]\n",
    "\n",
    "# Compute the average revenue on that date for each year\n",
    "seasonal_avg = seasonal_data.groupby('Year')['Revenue'].mean().reset_index()\n",
    "\n",
    "print(\"Average Revenue on\", target_date.strftime(\"%B %d\"), \"by Year:\")\n",
    "print(seasonal_avg)\n",
    "\n",
    "# Visualize the seasonal revenue trend for the target date across years\n",
    "plt.figure(figsize=(8,5))\n",
    "sns.barplot(x='Year', y='Revenue', data=seasonal_avg, palette='viridis')\n",
    "plt.title(f\"Average Revenue on {target_date.strftime('%B %d')} by Year\")\n",
    "plt.ylabel(\"Average Revenue\")\n",
    "plt.xlabel(\"Year\")\n",
    "plt.tight_layout()\n",
    "plt.show()\n",
    "\n",
    "# Additional week-day comparison\n",
    "daily_revenue = data['Revenue'].resample('D').mean().reset_index()\n",
    "target_weekday = target_date.dayofweek\n",
    "daily_revenue['Weekday'] = daily_revenue['Date'].dt.dayofweek\n",
    "\n",
    "baseline_weekday_revenue = daily_revenue[daily_revenue['Weekday'] == target_weekday]\n",
    "\n",
    "# Use baseline_weekday_revenue's 'Date' column for the mask\n",
    "avg_baseline_weekday = baseline_weekday_revenue[baseline_weekday_revenue['Date'] != target_date]['Revenue'].mean()\n",
    "\n",
    "target_revenue = daily_revenue[daily_revenue['Date'] == target_date]['Revenue'].values[0]\n",
    "\n",
    "print(f\"\\nRevenue on target date {target_date.date()}: ${target_revenue:.2f}\")\n",
    "print(f\"Average revenue on {target_date.strftime('%A')} (excluding target date): ${avg_baseline_weekday:.2f}\")\n"
   ]
  },
  {
   "cell_type": "code",
   "execution_count": 106,
   "id": "cb2a7162",
   "metadata": {},
   "outputs": [
    {
     "name": "stdout",
     "output_type": "stream",
     "text": [
      "Average daily revenue for the past week (from 2025-02-18 to 2025-02-25): $34.98\n"
     ]
    }
   ],
   "source": [
    "# Get the maximum date in the dataset\n",
    "max_date = daily_revenue['Date'].max()\n",
    "\n",
    "# Define the start date for the past week (last 7 days)\n",
    "one_week_ago = max_date - pd.Timedelta(days=7)\n",
    "\n",
    "# Filter the data to only include the past week\n",
    "last_week_data = daily_revenue[(daily_revenue['Date'] > one_week_ago) & (daily_revenue['Date'] <= max_date)]\n",
    "\n",
    "# Calculate the average daily revenue for this period\n",
    "avg_last_week_revenue = last_week_data['Revenue'].mean()\n",
    "\n",
    "print(f\"Average daily revenue for the past week (from {one_week_ago.date()} to {max_date.date()}): ${avg_last_week_revenue:.2f}\")\n"
   ]
  },
  {
   "cell_type": "code",
   "execution_count": 107,
   "id": "89b616a1",
   "metadata": {},
   "outputs": [],
   "source": [
    "# Create a binary conversion column\n",
    "data['Conversion'] = (data['Revenue'] > 0).astype(int)\n",
    "# Define the target date of interest (the day with the revenue drop)\n",
    "target_date = pd.Timestamp(\"2025-02-25\")\n",
    "\n",
    "# Filter the data to only include sessions from the target date\n",
    "target_data = data.loc[target_date].copy()\n"
   ]
  },
  {
   "cell_type": "code",
   "execution_count": 108,
   "id": "eeedfbe6",
   "metadata": {},
   "outputs": [
    {
     "name": "stdout",
     "output_type": "stream",
     "text": [
      "\n",
      "VisitorType Summary:\n"
     ]
    },
    {
     "data": {
      "text/html": [
       "<div>\n",
       "<style scoped>\n",
       "    .dataframe tbody tr th:only-of-type {\n",
       "        vertical-align: middle;\n",
       "    }\n",
       "\n",
       "    .dataframe tbody tr th {\n",
       "        vertical-align: top;\n",
       "    }\n",
       "\n",
       "    .dataframe thead th {\n",
       "        text-align: right;\n",
       "    }\n",
       "</style>\n",
       "<table border=\"1\" class=\"dataframe\">\n",
       "  <thead>\n",
       "    <tr style=\"text-align: right;\">\n",
       "      <th></th>\n",
       "      <th>VisitorType</th>\n",
       "      <th>ConversionRate</th>\n",
       "      <th>AvgRevenue</th>\n",
       "    </tr>\n",
       "  </thead>\n",
       "  <tbody>\n",
       "    <tr>\n",
       "      <th>0</th>\n",
       "      <td>New_Visitor</td>\n",
       "      <td>0.198718</td>\n",
       "      <td>23.398751</td>\n",
       "    </tr>\n",
       "    <tr>\n",
       "      <th>1</th>\n",
       "      <td>Returning_Visitor</td>\n",
       "      <td>0.152249</td>\n",
       "      <td>16.824800</td>\n",
       "    </tr>\n",
       "  </tbody>\n",
       "</table>\n",
       "</div>"
      ],
      "text/plain": [
       "         VisitorType  ConversionRate  AvgRevenue\n",
       "0        New_Visitor        0.198718   23.398751\n",
       "1  Returning_Visitor        0.152249   16.824800"
      ]
     },
     "execution_count": 108,
     "metadata": {},
     "output_type": "execute_result"
    }
   ],
   "source": [
    "# Group by VisitorType and compute conversion rate, average revenue, and AOV\n",
    "target_day_visitor_summary = target_data.groupby('VisitorType').agg(\n",
    "    ConversionRate=('Conversion', 'mean'),  # average of 0/1 gives % converting\n",
    "    AvgRevenue=('Revenue', 'mean')      # average revenue across all sessions\n",
    "\n",
    ").reset_index()\n",
    "\n",
    "print(\"\\nVisitorType Summary:\")\n",
    "target_day_visitor_summary"
   ]
  },
  {
   "cell_type": "code",
   "execution_count": 110,
   "id": "3cdc8a22",
   "metadata": {},
   "outputs": [
    {
     "name": "stdout",
     "output_type": "stream",
     "text": [
      "\n",
      "VisitorType Summary:\n"
     ]
    },
    {
     "data": {
      "text/html": [
       "<div>\n",
       "<style scoped>\n",
       "    .dataframe tbody tr th:only-of-type {\n",
       "        vertical-align: middle;\n",
       "    }\n",
       "\n",
       "    .dataframe tbody tr th {\n",
       "        vertical-align: top;\n",
       "    }\n",
       "\n",
       "    .dataframe thead th {\n",
       "        text-align: right;\n",
       "    }\n",
       "</style>\n",
       "<table border=\"1\" class=\"dataframe\">\n",
       "  <thead>\n",
       "    <tr style=\"text-align: right;\">\n",
       "      <th></th>\n",
       "      <th>VisitorType</th>\n",
       "      <th>ConversionRate</th>\n",
       "      <th>AvgRevenue</th>\n",
       "    </tr>\n",
       "  </thead>\n",
       "  <tbody>\n",
       "    <tr>\n",
       "      <th>0</th>\n",
       "      <td>New_Visitor</td>\n",
       "      <td>0.372332</td>\n",
       "      <td>41.752605</td>\n",
       "    </tr>\n",
       "    <tr>\n",
       "      <th>1</th>\n",
       "      <td>Returning_Visitor</td>\n",
       "      <td>0.353441</td>\n",
       "      <td>37.344273</td>\n",
       "    </tr>\n",
       "  </tbody>\n",
       "</table>\n",
       "</div>"
      ],
      "text/plain": [
       "         VisitorType  ConversionRate  AvgRevenue\n",
       "0        New_Visitor        0.372332   41.752605\n",
       "1  Returning_Visitor        0.353441   37.344273"
      ]
     },
     "execution_count": 110,
     "metadata": {},
     "output_type": "execute_result"
    }
   ],
   "source": [
    "# Group by VisitorType and compute conversion rate, average revenue, and AOV\n",
    "whole_data_visitor_summary = data.groupby('VisitorType').agg(\n",
    "    ConversionRate=('Conversion', 'mean'),  # average of 0/1 gives % converting\n",
    "    AvgRevenue=('Revenue', 'mean')      # average revenue across all sessions\n",
    "\n",
    ").reset_index()\n",
    "\n",
    "print(\"\\nVisitorType Summary:\")\n",
    "whole_data_visitor_summary"
   ]
  },
  {
   "cell_type": "code",
   "execution_count": 113,
   "id": "ae693ee1",
   "metadata": {},
   "outputs": [
    {
     "name": "stdout",
     "output_type": "stream",
     "text": [
      "\n",
      "Region Summary:\n"
     ]
    },
    {
     "data": {
      "text/html": [
       "<div>\n",
       "<style scoped>\n",
       "    .dataframe tbody tr th:only-of-type {\n",
       "        vertical-align: middle;\n",
       "    }\n",
       "\n",
       "    .dataframe tbody tr th {\n",
       "        vertical-align: top;\n",
       "    }\n",
       "\n",
       "    .dataframe thead th {\n",
       "        text-align: right;\n",
       "    }\n",
       "</style>\n",
       "<table border=\"1\" class=\"dataframe\">\n",
       "  <thead>\n",
       "    <tr style=\"text-align: right;\">\n",
       "      <th></th>\n",
       "      <th>Region</th>\n",
       "      <th>ConversionRate</th>\n",
       "      <th>AvgRevenue</th>\n",
       "    </tr>\n",
       "  </thead>\n",
       "  <tbody>\n",
       "    <tr>\n",
       "      <th>0</th>\n",
       "      <td>Asia</td>\n",
       "      <td>0.418182</td>\n",
       "      <td>50.462749</td>\n",
       "    </tr>\n",
       "    <tr>\n",
       "      <th>1</th>\n",
       "      <td>Europe</td>\n",
       "      <td>0.076372</td>\n",
       "      <td>8.626248</td>\n",
       "    </tr>\n",
       "    <tr>\n",
       "      <th>2</th>\n",
       "      <td>Latin America</td>\n",
       "      <td>0.400000</td>\n",
       "      <td>45.127240</td>\n",
       "    </tr>\n",
       "    <tr>\n",
       "      <th>3</th>\n",
       "      <td>North America</td>\n",
       "      <td>0.403509</td>\n",
       "      <td>45.860027</td>\n",
       "    </tr>\n",
       "  </tbody>\n",
       "</table>\n",
       "</div>"
      ],
      "text/plain": [
       "          Region  ConversionRate  AvgRevenue\n",
       "0           Asia        0.418182   50.462749\n",
       "1         Europe        0.076372    8.626248\n",
       "2  Latin America        0.400000   45.127240\n",
       "3  North America        0.403509   45.860027"
      ]
     },
     "execution_count": 113,
     "metadata": {},
     "output_type": "execute_result"
    }
   ],
   "source": [
    "target_day_region_summary = target_data.groupby('Region').agg(\n",
    "    ConversionRate=('Conversion', 'mean'),\n",
    "    AvgRevenue=('Revenue', 'mean')\n",
    "\n",
    ").reset_index()\n",
    "\n",
    "print(\"\\nRegion Summary:\")\n",
    "target_day_region_summary"
   ]
  },
  {
   "cell_type": "code",
   "execution_count": 114,
   "id": "8bb9bccc",
   "metadata": {},
   "outputs": [
    {
     "name": "stdout",
     "output_type": "stream",
     "text": [
      "\n",
      "Region Summary:\n"
     ]
    },
    {
     "data": {
      "text/html": [
       "<div>\n",
       "<style scoped>\n",
       "    .dataframe tbody tr th:only-of-type {\n",
       "        vertical-align: middle;\n",
       "    }\n",
       "\n",
       "    .dataframe tbody tr th {\n",
       "        vertical-align: top;\n",
       "    }\n",
       "\n",
       "    .dataframe thead th {\n",
       "        text-align: right;\n",
       "    }\n",
       "</style>\n",
       "<table border=\"1\" class=\"dataframe\">\n",
       "  <thead>\n",
       "    <tr style=\"text-align: right;\">\n",
       "      <th></th>\n",
       "      <th>Region</th>\n",
       "      <th>ConversionRate</th>\n",
       "      <th>AvgRevenue</th>\n",
       "    </tr>\n",
       "  </thead>\n",
       "  <tbody>\n",
       "    <tr>\n",
       "      <th>0</th>\n",
       "      <td>Asia</td>\n",
       "      <td>0.387451</td>\n",
       "      <td>42.699437</td>\n",
       "    </tr>\n",
       "    <tr>\n",
       "      <th>1</th>\n",
       "      <td>Europe</td>\n",
       "      <td>0.300501</td>\n",
       "      <td>32.611968</td>\n",
       "    </tr>\n",
       "    <tr>\n",
       "      <th>2</th>\n",
       "      <td>Latin America</td>\n",
       "      <td>0.389431</td>\n",
       "      <td>41.974343</td>\n",
       "    </tr>\n",
       "    <tr>\n",
       "      <th>3</th>\n",
       "      <td>North America</td>\n",
       "      <td>0.371627</td>\n",
       "      <td>40.659278</td>\n",
       "    </tr>\n",
       "  </tbody>\n",
       "</table>\n",
       "</div>"
      ],
      "text/plain": [
       "          Region  ConversionRate  AvgRevenue\n",
       "0           Asia        0.387451   42.699437\n",
       "1         Europe        0.300501   32.611968\n",
       "2  Latin America        0.389431   41.974343\n",
       "3  North America        0.371627   40.659278"
      ]
     },
     "execution_count": 114,
     "metadata": {},
     "output_type": "execute_result"
    }
   ],
   "source": [
    "region_summary_full_data = data.groupby('Region').agg(\n",
    "    ConversionRate=('Conversion', 'mean'),\n",
    "    AvgRevenue=('Revenue', 'mean')\n",
    "\n",
    ").reset_index()\n",
    "\n",
    "print(\"\\nRegion Summary:\")\n",
    "region_summary_full_data"
   ]
  },
  {
   "cell_type": "code",
   "execution_count": 115,
   "id": "06407621",
   "metadata": {},
   "outputs": [
    {
     "name": "stdout",
     "output_type": "stream",
     "text": [
      "\n",
      "Device Summary:\n"
     ]
    },
    {
     "data": {
      "text/html": [
       "<div>\n",
       "<style scoped>\n",
       "    .dataframe tbody tr th:only-of-type {\n",
       "        vertical-align: middle;\n",
       "    }\n",
       "\n",
       "    .dataframe tbody tr th {\n",
       "        vertical-align: top;\n",
       "    }\n",
       "\n",
       "    .dataframe thead th {\n",
       "        text-align: right;\n",
       "    }\n",
       "</style>\n",
       "<table border=\"1\" class=\"dataframe\">\n",
       "  <thead>\n",
       "    <tr style=\"text-align: right;\">\n",
       "      <th></th>\n",
       "      <th>Device</th>\n",
       "      <th>ConversionRate</th>\n",
       "      <th>AvgRevenue</th>\n",
       "    </tr>\n",
       "  </thead>\n",
       "  <tbody>\n",
       "    <tr>\n",
       "      <th>0</th>\n",
       "      <td>Desktop</td>\n",
       "      <td>0.442623</td>\n",
       "      <td>47.594390</td>\n",
       "    </tr>\n",
       "    <tr>\n",
       "      <th>1</th>\n",
       "      <td>Mobile</td>\n",
       "      <td>0.146296</td>\n",
       "      <td>17.147258</td>\n",
       "    </tr>\n",
       "  </tbody>\n",
       "</table>\n",
       "</div>"
      ],
      "text/plain": [
       "    Device  ConversionRate  AvgRevenue\n",
       "0  Desktop        0.442623   47.594390\n",
       "1   Mobile        0.146296   17.147258"
      ]
     },
     "execution_count": 115,
     "metadata": {},
     "output_type": "execute_result"
    }
   ],
   "source": [
    "# Group by Device to calculate key metrics\n",
    "device_summary_target_day = target_data.groupby('Device').agg(\n",
    "    ConversionRate=('Conversion', 'mean'),  # Mean of 0/1 gives percentage converting\n",
    "    AvgRevenue=('Revenue', 'mean')\n",
    ").reset_index()\n",
    "\n",
    "print(\"\\nDevice Summary:\")\n",
    "device_summary_target_day"
   ]
  },
  {
   "cell_type": "code",
   "execution_count": 116,
   "id": "d7e983e5",
   "metadata": {},
   "outputs": [
    {
     "name": "stdout",
     "output_type": "stream",
     "text": [
      "\n",
      "Device Summary:\n"
     ]
    },
    {
     "data": {
      "text/html": [
       "<div>\n",
       "<style scoped>\n",
       "    .dataframe tbody tr th:only-of-type {\n",
       "        vertical-align: middle;\n",
       "    }\n",
       "\n",
       "    .dataframe tbody tr th {\n",
       "        vertical-align: top;\n",
       "    }\n",
       "\n",
       "    .dataframe thead th {\n",
       "        text-align: right;\n",
       "    }\n",
       "</style>\n",
       "<table border=\"1\" class=\"dataframe\">\n",
       "  <thead>\n",
       "    <tr style=\"text-align: right;\">\n",
       "      <th></th>\n",
       "      <th>Device</th>\n",
       "      <th>ConversionRate</th>\n",
       "      <th>AvgRevenue</th>\n",
       "    </tr>\n",
       "  </thead>\n",
       "  <tbody>\n",
       "    <tr>\n",
       "      <th>0</th>\n",
       "      <td>Desktop</td>\n",
       "      <td>0.386158</td>\n",
       "      <td>41.194504</td>\n",
       "    </tr>\n",
       "    <tr>\n",
       "      <th>1</th>\n",
       "      <td>Mobile</td>\n",
       "      <td>0.357232</td>\n",
       "      <td>39.171503</td>\n",
       "    </tr>\n",
       "  </tbody>\n",
       "</table>\n",
       "</div>"
      ],
      "text/plain": [
       "    Device  ConversionRate  AvgRevenue\n",
       "0  Desktop        0.386158   41.194504\n",
       "1   Mobile        0.357232   39.171503"
      ]
     },
     "execution_count": 116,
     "metadata": {},
     "output_type": "execute_result"
    }
   ],
   "source": [
    "# Group by Device to calculate key metrics\n",
    "device_summary_whole_data = data.groupby('Device').agg(\n",
    "    ConversionRate=('Conversion', 'mean'),  # Mean of 0/1 gives percentage converting\n",
    "    AvgRevenue=('Revenue', 'mean')\n",
    ").reset_index()\n",
    "\n",
    "print(\"\\nDevice Summary:\")\n",
    "device_summary_whole_data"
   ]
  },
  {
   "cell_type": "code",
   "execution_count": 117,
   "id": "3cecca5b",
   "metadata": {},
   "outputs": [
    {
     "name": "stdout",
     "output_type": "stream",
     "text": [
      "Segmented Summary by Device and Region:\n"
     ]
    },
    {
     "data": {
      "text/html": [
       "<div>\n",
       "<style scoped>\n",
       "    .dataframe tbody tr th:only-of-type {\n",
       "        vertical-align: middle;\n",
       "    }\n",
       "\n",
       "    .dataframe tbody tr th {\n",
       "        vertical-align: top;\n",
       "    }\n",
       "\n",
       "    .dataframe thead th {\n",
       "        text-align: right;\n",
       "    }\n",
       "</style>\n",
       "<table border=\"1\" class=\"dataframe\">\n",
       "  <thead>\n",
       "    <tr style=\"text-align: right;\">\n",
       "      <th></th>\n",
       "      <th>Device</th>\n",
       "      <th>Region</th>\n",
       "      <th>ConversionRate</th>\n",
       "      <th>AvgRevenue</th>\n",
       "    </tr>\n",
       "  </thead>\n",
       "  <tbody>\n",
       "    <tr>\n",
       "      <th>0</th>\n",
       "      <td>Desktop</td>\n",
       "      <td>Asia</td>\n",
       "      <td>0.533333</td>\n",
       "      <td>62.436187</td>\n",
       "    </tr>\n",
       "    <tr>\n",
       "      <th>1</th>\n",
       "      <td>Desktop</td>\n",
       "      <td>Europe</td>\n",
       "      <td>0.363636</td>\n",
       "      <td>49.674618</td>\n",
       "    </tr>\n",
       "    <tr>\n",
       "      <th>2</th>\n",
       "      <td>Desktop</td>\n",
       "      <td>Latin America</td>\n",
       "      <td>0.388889</td>\n",
       "      <td>30.002155</td>\n",
       "    </tr>\n",
       "    <tr>\n",
       "      <th>3</th>\n",
       "      <td>Desktop</td>\n",
       "      <td>North America</td>\n",
       "      <td>0.470588</td>\n",
       "      <td>51.779729</td>\n",
       "    </tr>\n",
       "    <tr>\n",
       "      <th>4</th>\n",
       "      <td>Mobile</td>\n",
       "      <td>Asia</td>\n",
       "      <td>0.375000</td>\n",
       "      <td>45.972710</td>\n",
       "    </tr>\n",
       "    <tr>\n",
       "      <th>5</th>\n",
       "      <td>Mobile</td>\n",
       "      <td>Europe</td>\n",
       "      <td>0.068627</td>\n",
       "      <td>7.519552</td>\n",
       "    </tr>\n",
       "    <tr>\n",
       "      <th>6</th>\n",
       "      <td>Mobile</td>\n",
       "      <td>Latin America</td>\n",
       "      <td>0.403846</td>\n",
       "      <td>50.362846</td>\n",
       "    </tr>\n",
       "    <tr>\n",
       "      <th>7</th>\n",
       "      <td>Mobile</td>\n",
       "      <td>North America</td>\n",
       "      <td>0.375000</td>\n",
       "      <td>43.344153</td>\n",
       "    </tr>\n",
       "  </tbody>\n",
       "</table>\n",
       "</div>"
      ],
      "text/plain": [
       "    Device         Region  ConversionRate  AvgRevenue\n",
       "0  Desktop           Asia        0.533333   62.436187\n",
       "1  Desktop         Europe        0.363636   49.674618\n",
       "2  Desktop  Latin America        0.388889   30.002155\n",
       "3  Desktop  North America        0.470588   51.779729\n",
       "4   Mobile           Asia        0.375000   45.972710\n",
       "5   Mobile         Europe        0.068627    7.519552\n",
       "6   Mobile  Latin America        0.403846   50.362846\n",
       "7   Mobile  North America        0.375000   43.344153"
      ]
     },
     "execution_count": 117,
     "metadata": {},
     "output_type": "execute_result"
    }
   ],
   "source": [
    "# 1. Segmentation by Device and Region\n",
    "device_region_summary_target = target_data.groupby(['Device', 'Region']).agg(\n",
    "    ConversionRate=('Conversion', 'mean'),\n",
    "    AvgRevenue=('Revenue', 'mean')\n",
    "\n",
    ").reset_index()\n",
    "\n",
    "print(\"Segmented Summary by Device and Region:\")\n",
    "device_region_summary_target"
   ]
  },
  {
   "cell_type": "code",
   "execution_count": 118,
   "id": "ef831ff7",
   "metadata": {},
   "outputs": [
    {
     "name": "stdout",
     "output_type": "stream",
     "text": [
      "Segmented Summary by Device and Region:\n"
     ]
    },
    {
     "data": {
      "text/html": [
       "<div>\n",
       "<style scoped>\n",
       "    .dataframe tbody tr th:only-of-type {\n",
       "        vertical-align: middle;\n",
       "    }\n",
       "\n",
       "    .dataframe tbody tr th {\n",
       "        vertical-align: top;\n",
       "    }\n",
       "\n",
       "    .dataframe thead th {\n",
       "        text-align: right;\n",
       "    }\n",
       "</style>\n",
       "<table border=\"1\" class=\"dataframe\">\n",
       "  <thead>\n",
       "    <tr style=\"text-align: right;\">\n",
       "      <th></th>\n",
       "      <th>Device</th>\n",
       "      <th>Region</th>\n",
       "      <th>ConversionRate</th>\n",
       "      <th>AvgRevenue</th>\n",
       "    </tr>\n",
       "  </thead>\n",
       "  <tbody>\n",
       "    <tr>\n",
       "      <th>0</th>\n",
       "      <td>Desktop</td>\n",
       "      <td>Asia</td>\n",
       "      <td>0.368217</td>\n",
       "      <td>38.900231</td>\n",
       "    </tr>\n",
       "    <tr>\n",
       "      <th>1</th>\n",
       "      <td>Desktop</td>\n",
       "      <td>Europe</td>\n",
       "      <td>0.385593</td>\n",
       "      <td>42.967118</td>\n",
       "    </tr>\n",
       "    <tr>\n",
       "      <th>2</th>\n",
       "      <td>Desktop</td>\n",
       "      <td>Latin America</td>\n",
       "      <td>0.401674</td>\n",
       "      <td>42.531533</td>\n",
       "    </tr>\n",
       "    <tr>\n",
       "      <th>3</th>\n",
       "      <td>Desktop</td>\n",
       "      <td>North America</td>\n",
       "      <td>0.390152</td>\n",
       "      <td>40.641610</td>\n",
       "    </tr>\n",
       "    <tr>\n",
       "      <th>4</th>\n",
       "      <td>Mobile</td>\n",
       "      <td>Asia</td>\n",
       "      <td>0.392330</td>\n",
       "      <td>43.663248</td>\n",
       "    </tr>\n",
       "    <tr>\n",
       "      <th>5</th>\n",
       "      <td>Mobile</td>\n",
       "      <td>Europe</td>\n",
       "      <td>0.279626</td>\n",
       "      <td>30.071619</td>\n",
       "    </tr>\n",
       "    <tr>\n",
       "      <th>6</th>\n",
       "      <td>Mobile</td>\n",
       "      <td>Latin America</td>\n",
       "      <td>0.386478</td>\n",
       "      <td>41.839966</td>\n",
       "    </tr>\n",
       "    <tr>\n",
       "      <th>7</th>\n",
       "      <td>Mobile</td>\n",
       "      <td>North America</td>\n",
       "      <td>0.366893</td>\n",
       "      <td>40.663793</td>\n",
       "    </tr>\n",
       "  </tbody>\n",
       "</table>\n",
       "</div>"
      ],
      "text/plain": [
       "    Device         Region  ConversionRate  AvgRevenue\n",
       "0  Desktop           Asia        0.368217   38.900231\n",
       "1  Desktop         Europe        0.385593   42.967118\n",
       "2  Desktop  Latin America        0.401674   42.531533\n",
       "3  Desktop  North America        0.390152   40.641610\n",
       "4   Mobile           Asia        0.392330   43.663248\n",
       "5   Mobile         Europe        0.279626   30.071619\n",
       "6   Mobile  Latin America        0.386478   41.839966\n",
       "7   Mobile  North America        0.366893   40.663793"
      ]
     },
     "execution_count": 118,
     "metadata": {},
     "output_type": "execute_result"
    }
   ],
   "source": [
    "# 1. Segmentation by Device and Region\n",
    "device_region_summary_whole_data = data.groupby(['Device', 'Region']).agg(\n",
    "    ConversionRate=('Conversion', 'mean'),\n",
    "    AvgRevenue=('Revenue', 'mean')\n",
    "\n",
    ").reset_index()\n",
    "\n",
    "print(\"Segmented Summary by Device and Region:\")\n",
    "device_region_summary_whole_data"
   ]
  },
  {
   "cell_type": "code",
   "execution_count": 119,
   "id": "41dcc48b",
   "metadata": {},
   "outputs": [
    {
     "data": {
      "image/png": "[encoded data removed]",
      "text/plain": [
       "<Figure size 720x432 with 1 Axes>"
      ]
     },
     "metadata": {
      "needs_background": "light"
     },
     "output_type": "display_data"
    }
   ],
   "source": [
    "# Visualize Average Revenue by Device and Region\n",
    "plt.figure(figsize=(10, 6))\n",
    "sns.barplot(data=device_region_summary_target, x='Region', y='AvgRevenue', hue='Device', palette='viridis')\n",
    "plt.title(\"Average Revenue by Device and Region\")\n",
    "plt.ylabel(\"Average Revenue ($)\")\n",
    "plt.xlabel(\"Region\")\n",
    "plt.tight_layout()\n",
    "plt.show()"
   ]
  },
  {
   "cell_type": "code",
   "execution_count": 120,
   "id": "4e15f8f9",
   "metadata": {},
   "outputs": [
    {
     "data": {
      "image/png": "[encoded data removed]",
      "text/plain": [
       "<Figure size 720x432 with 1 Axes>"
      ]
     },
     "metadata": {
      "needs_background": "light"
     },
     "output_type": "display_data"
    }
   ],
   "source": [
    "# Visualize Average Revenue by Device and Region\n",
    "plt.figure(figsize=(10, 6))\n",
    "sns.barplot(data=device_region_summary_whole_data, x='Region', y='AvgRevenue', hue='Device', palette='viridis')\n",
    "plt.title(\"Average Revenue by Device and Region\")\n",
    "plt.ylabel(\"Average Revenue ($)\")\n",
    "plt.xlabel(\"Region\")\n",
    "plt.tight_layout()\n",
    "plt.show()"
   ]
  },
  {
   "cell_type": "code",
   "execution_count": 121,
   "id": "9bf1658a",
   "metadata": {},
   "outputs": [
    {
     "name": "stdout",
     "output_type": "stream",
     "text": [
      "Segmented Summary by Device and VisitorType:\n"
     ]
    },
    {
     "data": {
      "text/html": [
       "<div>\n",
       "<style scoped>\n",
       "    .dataframe tbody tr th:only-of-type {\n",
       "        vertical-align: middle;\n",
       "    }\n",
       "\n",
       "    .dataframe tbody tr th {\n",
       "        vertical-align: top;\n",
       "    }\n",
       "\n",
       "    .dataframe thead th {\n",
       "        text-align: right;\n",
       "    }\n",
       "</style>\n",
       "<table border=\"1\" class=\"dataframe\">\n",
       "  <thead>\n",
       "    <tr style=\"text-align: right;\">\n",
       "      <th></th>\n",
       "      <th>Device</th>\n",
       "      <th>VisitorType</th>\n",
       "      <th>TotalSessions</th>\n",
       "      <th>ConversionRate</th>\n",
       "      <th>AvgRevenue</th>\n",
       "    </tr>\n",
       "  </thead>\n",
       "  <tbody>\n",
       "    <tr>\n",
       "      <th>0</th>\n",
       "      <td>Desktop</td>\n",
       "      <td>New_Visitor</td>\n",
       "      <td>518</td>\n",
       "      <td>0.378378</td>\n",
       "      <td>41.078868</td>\n",
       "    </tr>\n",
       "    <tr>\n",
       "      <th>1</th>\n",
       "      <td>Desktop</td>\n",
       "      <td>Returning_Visitor</td>\n",
       "      <td>479</td>\n",
       "      <td>0.394572</td>\n",
       "      <td>41.319556</td>\n",
       "    </tr>\n",
       "    <tr>\n",
       "      <th>2</th>\n",
       "      <td>Mobile</td>\n",
       "      <td>New_Visitor</td>\n",
       "      <td>2012</td>\n",
       "      <td>0.370775</td>\n",
       "      <td>41.926063</td>\n",
       "    </tr>\n",
       "    <tr>\n",
       "      <th>3</th>\n",
       "      <td>Mobile</td>\n",
       "      <td>Returning_Visitor</td>\n",
       "      <td>1991</td>\n",
       "      <td>0.343546</td>\n",
       "      <td>36.387889</td>\n",
       "    </tr>\n",
       "  </tbody>\n",
       "</table>\n",
       "</div>"
      ],
      "text/plain": [
       "    Device        VisitorType  TotalSessions  ConversionRate  AvgRevenue\n",
       "0  Desktop        New_Visitor            518        0.378378   41.078868\n",
       "1  Desktop  Returning_Visitor            479        0.394572   41.319556\n",
       "2   Mobile        New_Visitor           2012        0.370775   41.926063\n",
       "3   Mobile  Returning_Visitor           1991        0.343546   36.387889"
      ]
     },
     "execution_count": 121,
     "metadata": {},
     "output_type": "execute_result"
    }
   ],
   "source": [
    "device_visitor_summary = data.groupby(['Device', 'VisitorType']).agg(\n",
    "    TotalSessions=('Conversion', 'count'),\n",
    "    ConversionRate=('Conversion', 'mean'),\n",
    "    AvgRevenue=('Revenue', 'mean')\n",
    ").reset_index()\n",
    "\n",
    "print(\"Segmented Summary by Device and VisitorType:\")\n",
    "device_visitor_summary"
   ]
  },
  {
   "cell_type": "code",
   "execution_count": 123,
   "id": "bf08ac48",
   "metadata": {},
   "outputs": [
    {
     "name": "stdout",
     "output_type": "stream",
     "text": [
      "Overall Conversion Rate: 17.64%\n",
      "Overall Average Revenue: $20.24\n",
      "Overall Add-to-Cart Rate: 31.95%\n",
      "Overall Checkout Rate: 26.46%\n",
      "Overall Payment Success Rate: 17.64%\n"
     ]
    }
   ],
   "source": [
    "# target day overall rates\n",
    "target_data_overall_conversion_rate = target_data['Conversion'].mean()  # Percentage of sessions with revenue > 0\n",
    "target_data_overall_avg_revenue = target_data['Revenue'].mean()         # Average revenue per session (monetary value)\n",
    "target_data_overall_addtocart_rate = target_data['AddToCart'].mean()\n",
    "target_data_overall_checkout_rate = target_data['Checkout'].mean()\n",
    "target_data_overall_payment_success_rate = target_data['PaymentSuccess'].mean()\n",
    "\n",
    "print(f\"Overall Conversion Rate: {target_data_overall_conversion_rate:.2%}\")\n",
    "print(f\"Overall Average Revenue: ${target_data_overall_avg_revenue:.2f}\")\n",
    "print(f\"Overall Add-to-Cart Rate: {target_data_overall_addtocart_rate:.2%}\")\n",
    "print(f\"Overall Checkout Rate: {target_data_overall_checkout_rate:.2%}\")\n",
    "print(f\"Overall Payment Success Rate: {target_data_overall_payment_success_rate:.2%}\")"
   ]
  },
  {
   "cell_type": "code",
   "execution_count": 122,
   "id": "53ad0de4",
   "metadata": {},
   "outputs": [
    {
     "name": "stdout",
     "output_type": "stream",
     "text": [
      "Overall Conversion Rate: 36.30%\n",
      "Overall Average Revenue: $39.57\n",
      "Overall Add-to-Cart Rate: 65.54%\n",
      "Overall Checkout Rate: 51.98%\n",
      "Overall Payment Success Rate: 36.30%\n"
     ]
    }
   ],
   "source": [
    "# Compute overall rates\n",
    "overall_conversion_rate = data['Conversion'].mean()  # Percentage of sessions with revenue > 0\n",
    "overall_avg_revenue = data['Revenue'].mean()         # Average revenue per session (monetary value)\n",
    "overall_addtocart_rate = data['AddToCart'].mean()\n",
    "overall_checkout_rate = data['Checkout'].mean()\n",
    "overall_payment_success_rate = data['PaymentSuccess'].mean()\n",
    "\n",
    "print(f\"Overall Conversion Rate: {overall_conversion_rate:.2%}\")\n",
    "print(f\"Overall Average Revenue: ${overall_avg_revenue:.2f}\")\n",
    "print(f\"Overall Add-to-Cart Rate: {overall_addtocart_rate:.2%}\")\n",
    "print(f\"Overall Checkout Rate: {overall_checkout_rate:.2%}\")\n",
    "print(f\"Overall Payment Success Rate: {overall_payment_success_rate:.2%}\")"
   ]
  },
  {
   "cell_type": "code",
   "execution_count": 124,
   "id": "41420f30",
   "metadata": {},
   "outputs": [
    {
     "name": "stdout",
     "output_type": "stream",
     "text": [
      "\n",
      "Conversion Funnel by Device:\n"
     ]
    },
    {
     "data": {
      "text/html": [
       "<div>\n",
       "<style scoped>\n",
       "    .dataframe tbody tr th:only-of-type {\n",
       "        vertical-align: middle;\n",
       "    }\n",
       "\n",
       "    .dataframe tbody tr th {\n",
       "        vertical-align: top;\n",
       "    }\n",
       "\n",
       "    .dataframe thead th {\n",
       "        text-align: right;\n",
       "    }\n",
       "</style>\n",
       "<table border=\"1\" class=\"dataframe\">\n",
       "  <thead>\n",
       "    <tr style=\"text-align: right;\">\n",
       "      <th></th>\n",
       "      <th>TotalSessions</th>\n",
       "      <th>AddToCart</th>\n",
       "      <th>Checkout</th>\n",
       "      <th>PaymentSuccess</th>\n",
       "      <th>AddToCart Rate</th>\n",
       "      <th>Checkout Rate (from AddToCart)</th>\n",
       "      <th>Payment Success Rate (from Checkout)</th>\n",
       "    </tr>\n",
       "    <tr>\n",
       "      <th>Device</th>\n",
       "      <th></th>\n",
       "      <th></th>\n",
       "      <th></th>\n",
       "      <th></th>\n",
       "      <th></th>\n",
       "      <th></th>\n",
       "      <th></th>\n",
       "    </tr>\n",
       "  </thead>\n",
       "  <tbody>\n",
       "    <tr>\n",
       "      <th>Desktop</th>\n",
       "      <td>997</td>\n",
       "      <td>706</td>\n",
       "      <td>559</td>\n",
       "      <td>385</td>\n",
       "      <td>0.708124</td>\n",
       "      <td>0.791785</td>\n",
       "      <td>0.68873</td>\n",
       "    </tr>\n",
       "    <tr>\n",
       "      <th>Mobile</th>\n",
       "      <td>4003</td>\n",
       "      <td>2571</td>\n",
       "      <td>2040</td>\n",
       "      <td>1430</td>\n",
       "      <td>0.642268</td>\n",
       "      <td>0.793466</td>\n",
       "      <td>0.70098</td>\n",
       "    </tr>\n",
       "  </tbody>\n",
       "</table>\n",
       "</div>"
      ],
      "text/plain": [
       "         TotalSessions  AddToCart  Checkout  PaymentSuccess  AddToCart Rate  \\\n",
       "Device                                                                        \n",
       "Desktop            997        706       559             385        0.708124   \n",
       "Mobile            4003       2571      2040            1430        0.642268   \n",
       "\n",
       "         Checkout Rate (from AddToCart)  Payment Success Rate (from Checkout)  \n",
       "Device                                                                         \n",
       "Desktop                        0.791785                               0.68873  \n",
       "Mobile                         0.793466                               0.70098  "
      ]
     },
     "execution_count": 124,
     "metadata": {},
     "output_type": "execute_result"
    }
   ],
   "source": [
    "# ------------------------------------------------\n",
    "# Step 5: Segment the Data Using Dimensions and Measures\n",
    "# ------------------------------------------------\n",
    "\n",
    "# Example segmentation by Device (Mobile vs. Desktop)\n",
    "device_funnel = data.groupby('Device').agg(\n",
    "    TotalSessions=('Revenue', 'count'),\n",
    "    AddToCart=('AddToCart', 'sum'),\n",
    "    Checkout=('Checkout', 'sum'),\n",
    "    PaymentSuccess=('PaymentSuccess', 'sum')\n",
    ")\n",
    "\n",
    "device_funnel[\"AddToCart Rate\"] = device_funnel[\"AddToCart\"] / device_funnel[\"TotalSessions\"]\n",
    "device_funnel[\"Checkout Rate (from AddToCart)\"] = device_funnel[\"Checkout\"] / device_funnel[\"AddToCart\"]\n",
    "device_funnel[\"Payment Success Rate (from Checkout)\"] = device_funnel[\"PaymentSuccess\"] / device_funnel[\"Checkout\"]\n",
    "\n",
    "print(\"\\nConversion Funnel by Device:\")\n",
    "device_funnel"
   ]
  },
  {
   "cell_type": "code",
   "execution_count": 125,
   "id": "0a993999",
   "metadata": {},
   "outputs": [
    {
     "name": "stdout",
     "output_type": "stream",
     "text": [
      "\n",
      "Conversion Funnel by Device for Target Day:\n"
     ]
    },
    {
     "data": {
      "text/html": [
       "<div>\n",
       "<style scoped>\n",
       "    .dataframe tbody tr th:only-of-type {\n",
       "        vertical-align: middle;\n",
       "    }\n",
       "\n",
       "    .dataframe tbody tr th {\n",
       "        vertical-align: top;\n",
       "    }\n",
       "\n",
       "    .dataframe thead th {\n",
       "        text-align: right;\n",
       "    }\n",
       "</style>\n",
       "<table border=\"1\" class=\"dataframe\">\n",
       "  <thead>\n",
       "    <tr style=\"text-align: right;\">\n",
       "      <th></th>\n",
       "      <th>TotalSessions</th>\n",
       "      <th>AddToCart</th>\n",
       "      <th>Checkout</th>\n",
       "      <th>PaymentSuccess</th>\n",
       "      <th>AddToCart Rate</th>\n",
       "      <th>Checkout Rate (from AddToCart)</th>\n",
       "      <th>Payment Success Rate (from Checkout)</th>\n",
       "    </tr>\n",
       "    <tr>\n",
       "      <th>Device</th>\n",
       "      <th></th>\n",
       "      <th></th>\n",
       "      <th></th>\n",
       "      <th></th>\n",
       "      <th></th>\n",
       "      <th></th>\n",
       "      <th></th>\n",
       "    </tr>\n",
       "  </thead>\n",
       "  <tbody>\n",
       "    <tr>\n",
       "      <th>Desktop</th>\n",
       "      <td>61</td>\n",
       "      <td>44</td>\n",
       "      <td>39</td>\n",
       "      <td>27</td>\n",
       "      <td>0.721311</td>\n",
       "      <td>0.886364</td>\n",
       "      <td>0.692308</td>\n",
       "    </tr>\n",
       "    <tr>\n",
       "      <th>Mobile</th>\n",
       "      <td>540</td>\n",
       "      <td>148</td>\n",
       "      <td>120</td>\n",
       "      <td>79</td>\n",
       "      <td>0.274074</td>\n",
       "      <td>0.810811</td>\n",
       "      <td>0.658333</td>\n",
       "    </tr>\n",
       "  </tbody>\n",
       "</table>\n",
       "</div>"
      ],
      "text/plain": [
       "         TotalSessions  AddToCart  Checkout  PaymentSuccess  AddToCart Rate  \\\n",
       "Device                                                                        \n",
       "Desktop             61         44        39              27        0.721311   \n",
       "Mobile             540        148       120              79        0.274074   \n",
       "\n",
       "         Checkout Rate (from AddToCart)  Payment Success Rate (from Checkout)  \n",
       "Device                                                                         \n",
       "Desktop                        0.886364                              0.692308  \n",
       "Mobile                         0.810811                              0.658333  "
      ]
     },
     "execution_count": 125,
     "metadata": {},
     "output_type": "execute_result"
    }
   ],
   "source": [
    "# ------------------------------------------------\n",
    "# Step 5: Segment the Data Using Dimensions and Measures\n",
    "# ------------------------------------------------\n",
    "\n",
    "# Example segmentation by Device (Mobile vs. Desktop)\n",
    "target_data_device_funnel = target_data.groupby('Device').agg(\n",
    "    TotalSessions=('Revenue', 'count'),\n",
    "    AddToCart=('AddToCart', 'sum'),\n",
    "    Checkout=('Checkout', 'sum'),\n",
    "    PaymentSuccess=('PaymentSuccess', 'sum')\n",
    ")\n",
    "\n",
    "target_data_device_funnel[\"AddToCart Rate\"] = target_data_device_funnel[\"AddToCart\"] / target_data_device_funnel[\"TotalSessions\"]\n",
    "target_data_device_funnel[\"Checkout Rate (from AddToCart)\"] = target_data_device_funnel[\"Checkout\"] / target_data_device_funnel[\"AddToCart\"]\n",
    "target_data_device_funnel[\"Payment Success Rate (from Checkout)\"] = target_data_device_funnel[\"PaymentSuccess\"] / target_data_device_funnel[\"Checkout\"]\n",
    "\n",
    "print(\"\\nConversion Funnel by Device for Target Day:\")\n",
    "target_data_device_funnel\n"
   ]
  },
  {
   "cell_type": "code",
   "execution_count": 126,
   "id": "53aa64e8",
   "metadata": {},
   "outputs": [
    {
     "name": "stdout",
     "output_type": "stream",
     "text": [
      "Funnel by Device in Europe on the Target Day:\n"
     ]
    },
    {
     "data": {
      "text/html": [
       "<div>\n",
       "<style scoped>\n",
       "    .dataframe tbody tr th:only-of-type {\n",
       "        vertical-align: middle;\n",
       "    }\n",
       "\n",
       "    .dataframe tbody tr th {\n",
       "        vertical-align: top;\n",
       "    }\n",
       "\n",
       "    .dataframe thead th {\n",
       "        text-align: right;\n",
       "    }\n",
       "</style>\n",
       "<table border=\"1\" class=\"dataframe\">\n",
       "  <thead>\n",
       "    <tr style=\"text-align: right;\">\n",
       "      <th></th>\n",
       "      <th>Device</th>\n",
       "      <th>TotalSessions</th>\n",
       "      <th>AddToCart</th>\n",
       "      <th>Checkout</th>\n",
       "      <th>PaymentSuccess</th>\n",
       "      <th>AddToCart Rate</th>\n",
       "      <th>Checkout Rate (from AddToCart)</th>\n",
       "      <th>Payment Success Rate (from Checkout)</th>\n",
       "    </tr>\n",
       "  </thead>\n",
       "  <tbody>\n",
       "    <tr>\n",
       "      <th>0</th>\n",
       "      <td>Desktop</td>\n",
       "      <td>11</td>\n",
       "      <td>8</td>\n",
       "      <td>7</td>\n",
       "      <td>4</td>\n",
       "      <td>0.727273</td>\n",
       "      <td>0.875000</td>\n",
       "      <td>0.571429</td>\n",
       "    </tr>\n",
       "    <tr>\n",
       "      <th>1</th>\n",
       "      <td>Mobile</td>\n",
       "      <td>408</td>\n",
       "      <td>49</td>\n",
       "      <td>42</td>\n",
       "      <td>28</td>\n",
       "      <td>0.120098</td>\n",
       "      <td>0.857143</td>\n",
       "      <td>0.666667</td>\n",
       "    </tr>\n",
       "  </tbody>\n",
       "</table>\n",
       "</div>"
      ],
      "text/plain": [
       "    Device  TotalSessions  AddToCart  Checkout  PaymentSuccess  \\\n",
       "0  Desktop             11          8         7               4   \n",
       "1   Mobile            408         49        42              28   \n",
       "\n",
       "   AddToCart Rate  Checkout Rate (from AddToCart)  \\\n",
       "0        0.727273                        0.875000   \n",
       "1        0.120098                        0.857143   \n",
       "\n",
       "   Payment Success Rate (from Checkout)  \n",
       "0                              0.571429  \n",
       "1                              0.666667  "
      ]
     },
     "execution_count": 126,
     "metadata": {},
     "output_type": "execute_result"
    }
   ],
   "source": [
    "\n",
    "# 2. Further filter to Europe only\n",
    "target_data_eu = target_data[target_data['Region'] == 'Europe']\n",
    "\n",
    "# 3. Group by 'Device' (Mobile vs. Desktop) and compute funnel metrics\n",
    "eu_device_funnel = target_data_eu.groupby('Device').agg(\n",
    "    TotalSessions=('AddToCart', 'count'),   # or you could use 'Revenue' or any column for the count\n",
    "    AddToCart=('AddToCart', 'sum'),\n",
    "    Checkout=('Checkout', 'sum'),\n",
    "    PaymentSuccess=('PaymentSuccess', 'sum')\n",
    ").reset_index()\n",
    "\n",
    "# 4. Compute funnel rates\n",
    "eu_device_funnel[\"AddToCart Rate\"] = (\n",
    "    eu_device_funnel[\"AddToCart\"] / eu_device_funnel[\"TotalSessions\"]\n",
    ")\n",
    "eu_device_funnel[\"Checkout Rate (from AddToCart)\"] = (\n",
    "    eu_device_funnel[\"Checkout\"] / eu_device_funnel[\"AddToCart\"]\n",
    ")\n",
    "eu_device_funnel[\"Payment Success Rate (from Checkout)\"] = (\n",
    "    eu_device_funnel[\"PaymentSuccess\"] / eu_device_funnel[\"Checkout\"]\n",
    ")\n",
    "\n",
    "print(\"Funnel by Device in Europe on the Target Day:\")\n",
    "eu_device_funnel"
   ]
  },
  {
   "cell_type": "markdown",
   "id": "4b3fc6d4",
   "metadata": {},
   "source": [
    "Hypothesis Statement:\n",
    "\n",
    "Based on our analysis, we hypothesize that the significant drop in overall revenue observed on February 25, 2025, is primarily due to a drastic decrease in the add-to-cart rate among mobile users in Europe. Our data shows that:\n",
    "\n",
    "Overall revenue on the target day fell significantly compared to the historical average for the same day of the week.\n",
    "Funnel analysis indicates that the add-to-cart rate for mobile users in Europe was much lower on the target day compared to other segments (e.g., desktop users in Europe and mobile users in other regions), which in turn led to reduced checkouts, lower payment success, and consequently, lower revenue.\n",
    "Visitor segmentation confirms that the drop is not evenly distributed—only the Mobile + Europe group shows this abnormal behavior.\n",
    "\n",
    "\n",
    "Next Steps:\n",
    "\n",
    "Investigate the Mobile Interface: Explore potential UI/UX issues on the European mobile site (e.g., misplacement or malfunctioning of the \"Add to Cart\" button).\n",
    "Examine Technical Logs: Check for any technical errors, slow loading times, or issues in the mobile app or website that might have disrupted the add-to-cart process on that day.\n",
    "User Feedback & Testing: Gather qualitative feedback (e.g., user surveys or session recordings) from European mobile users to see if they encountered difficulties when trying to add items to their cart.\n",
    "A/B Testing: Consider running controlled experiments (A/B tests) to confirm that improvements to the mobile add-to-cart functionality lead to a recovery in revenue."
   ]
  }
 ],
 "metadata": {
  "kernelspec": {
   "display_name": "Python 3 (ipykernel)",
   "language": "python",
   "name": "python3"
  },
  "language_info": {
   "codemirror_mode": {
    "name": "ipython",
    "version": 3
   },
   "file_extension": ".py",
   "mimetype": "text/x-python",
   "name": "python",
   "nbconvert_exporter": "python",
   "pygments_lexer": "ipython3",
   "version": "3.9.12"
  }
 },
 "nbformat": 4,
 "nbformat_minor": 5
}
