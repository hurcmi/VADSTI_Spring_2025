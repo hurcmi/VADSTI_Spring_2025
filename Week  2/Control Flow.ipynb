{
 "cells": [
  {
   "cell_type": "code",
   "execution_count": 39,
   "id": "a8b17104-8c72-4d36-89c6-3f1cce8bffcd",
   "metadata": {},
   "outputs": [
    {
     "name": "stdout",
     "output_type": "stream",
     "text": [
      "/Users/moussadoumbia/Desktop/my_folder/academy/IT/DATA_SCIENCE/SPING 2024 DS\n"
     ]
    }
   ],
   "source": [
    "!pwd"
   ]
  },
  {
   "cell_type": "markdown",
   "id": "70e5e45c",
   "metadata": {},
   "source": [
    "# CONTROL FLOW"
   ]
  },
  {
   "cell_type": "code",
   "execution_count": 2,
   "id": "98f076aa",
   "metadata": {
    "scrolled": true
   },
   "outputs": [
    {
     "data": {
      "text/plain": [
       "range(0, 5)"
      ]
     },
     "execution_count": 2,
     "metadata": {},
     "output_type": "execute_result"
    }
   ],
   "source": [
    "range(5)"
   ]
  },
  {
   "cell_type": "code",
   "execution_count": 3,
   "id": "af87a160",
   "metadata": {},
   "outputs": [
    {
     "name": "stdout",
     "output_type": "stream",
     "text": [
      "0\n",
      "1\n",
      "2\n",
      "3\n",
      "4\n"
     ]
    }
   ],
   "source": [
    "for i in range(5):\n",
    "    print(i)"
   ]
  },
  {
   "cell_type": "code",
   "execution_count": 5,
   "id": "3a921b31",
   "metadata": {},
   "outputs": [
    {
     "name": "stdout",
     "output_type": "stream",
     "text": [
      "2\n",
      "4\n",
      "6\n",
      "8\n"
     ]
    }
   ],
   "source": [
    "for i in range(2,10,2):\n",
    "    print(i)"
   ]
  },
  {
   "cell_type": "code",
   "execution_count": 6,
   "id": "9021238b",
   "metadata": {},
   "outputs": [
    {
     "name": "stdout",
     "output_type": "stream",
     "text": [
      "2\n",
      "5\n",
      "8\n"
     ]
    }
   ],
   "source": [
    "for i in range(2,10,3):\n",
    "    print(i)"
   ]
  },
  {
   "cell_type": "markdown",
   "id": "e543473c",
   "metadata": {},
   "source": [
    "### if, else"
   ]
  },
  {
   "cell_type": "code",
   "execution_count": null,
   "id": "07c1482d-9e0c-4194-a32d-205f34e86178",
   "metadata": {},
   "outputs": [],
   "source": [
    "num = int(input(\"Enter a number: \"))\n",
    "\n",
    "if num > 0:\n",
    "    print(\"The number is positive.\")\n",
    "elif num < 0:\n",
    "    print(\"The number is negative.\")\n",
    "else:\n",
    "    print(\"The number is zero.\")\n"
   ]
  },
  {
   "cell_type": "code",
   "execution_count": null,
   "id": "db78bed2-45f5-4168-a983-14cdfab02647",
   "metadata": {},
   "outputs": [],
   "source": [
    "age = int(input(\"Enter your age: \"))\n",
    "\n",
    "if age < 13:\n",
    "    print(\"You are a child.\")\n",
    "elif 13 <= age < 20:\n",
    "    print(\"You are a teenager.\")\n",
    "elif 20 <= age < 65:\n",
    "    print(\"You are an adult.\")\n",
    "else:\n",
    "    print(\"You are a senior citizen.\")\n"
   ]
  },
  {
   "cell_type": "markdown",
   "id": "2be2271b",
   "metadata": {},
   "source": [
    "### if elif, else statements"
   ]
  },
  {
   "cell_type": "code",
   "execution_count": 27,
   "id": "25216992",
   "metadata": {},
   "outputs": [],
   "source": [
    "my_score = 100"
   ]
  },
  {
   "cell_type": "code",
   "execution_count": 28,
   "id": "56826fa7",
   "metadata": {},
   "outputs": [
    {
     "name": "stdout",
     "output_type": "stream",
     "text": [
      "A\n"
     ]
    }
   ],
   "source": [
    "if my_score >= 90:\n",
    "    print(\"A\")\n",
    "elif my_score >=80:\n",
    "    print(\"B\")\n",
    "elif my_score >=70:\n",
    "    print(\"C\")\n",
    "elif my_score >= 60:\n",
    "    print(\"D\")\n",
    "else:\n",
    "    print(\"F\")"
   ]
  },
  {
   "cell_type": "markdown",
   "id": "e4a2eff4",
   "metadata": {},
   "source": [
    "### for loop"
   ]
  },
  {
   "cell_type": "code",
   "execution_count": 5,
   "id": "4908cfa1-cd90-4946-98d2-f292da55e9ce",
   "metadata": {},
   "outputs": [
    {
     "name": "stdout",
     "output_type": "stream",
     "text": [
      "Hello, Alice!\n",
      " How are you doing?\n",
      "\n",
      "Hello, Bob!\n",
      " How are you doing?\n",
      "\n",
      "Hello, Charlie!\n",
      " How are you doing?\n",
      "\n"
     ]
    }
   ],
   "source": [
    "names = [\"Alice\", \"Bob\", \"Charlie\"]\n",
    "\n",
    "for name in names:\n",
    "    print(f\"Hello, {name}!\\n How are you doing?\")"
   ]
  },
  {
   "cell_type": "code",
   "execution_count": 30,
   "id": "b37b8639",
   "metadata": {},
   "outputs": [
    {
     "name": "stdout",
     "output_type": "stream",
     "text": [
      "0\n",
      "1\n",
      "4\n",
      "9\n",
      "16\n",
      "25\n",
      "36\n",
      "49\n",
      "64\n",
      "81\n"
     ]
    }
   ],
   "source": [
    "for i in range(10):\n",
    "    print(i**2)"
   ]
  },
  {
   "cell_type": "code",
   "execution_count": 31,
   "id": "817fed63",
   "metadata": {},
   "outputs": [
    {
     "name": "stdout",
     "output_type": "stream",
     "text": [
      "0\n",
      "2025\n",
      "2\n",
      "2027\n",
      "4\n",
      "2029\n",
      "6\n",
      "2031\n",
      "8\n",
      "2033\n"
     ]
    }
   ],
   "source": [
    "for i in range(10):\n",
    "    if i % 2 == 0:\n",
    "        print(i)\n",
    "    else:\n",
    "        print(i+2024)"
   ]
  },
  {
   "cell_type": "code",
   "execution_count": 32,
   "id": "ea0d743e",
   "metadata": {},
   "outputs": [
    {
     "name": "stdout",
     "output_type": "stream",
     "text": [
      "0\n",
      "1\n",
      "0\n",
      "3\n",
      "0\n",
      "5\n",
      "0\n",
      "7\n",
      "0\n",
      "9\n"
     ]
    }
   ],
   "source": [
    "for i in range(10):\n",
    "    if i % 2 == 0:\n",
    "        print(0)\n",
    "    else:\n",
    "        print(i)"
   ]
  },
  {
   "cell_type": "code",
   "execution_count": 26,
   "id": "2f9ef4d6",
   "metadata": {},
   "outputs": [
    {
     "name": "stdout",
     "output_type": "stream",
     "text": [
      "*******\n",
      "******\n",
      "*****\n",
      "****\n",
      "***\n",
      "**\n",
      "*\n"
     ]
    }
   ],
   "source": [
    "for i in range(1,8,1):\n",
    "    print('*'*(8-i))"
   ]
  },
  {
   "cell_type": "code",
   "execution_count": 28,
   "id": "0acc3c20-ba47-45e0-b037-63564ef6eef3",
   "metadata": {},
   "outputs": [
    {
     "name": "stdout",
     "output_type": "stream",
     "text": [
      "*********\n",
      " *******\n",
      "  *****\n",
      "   ***\n",
      "    *\n"
     ]
    }
   ],
   "source": [
    "#Downward Triangle\n",
    "rows = 5\n",
    "\n",
    "for i in range(rows, 0, -1):\n",
    "    print(\" \" * (rows - i) + \"*\" * (2 * i - 1))\n"
   ]
  },
  {
   "cell_type": "code",
   "execution_count": 30,
   "id": "858e5d75-e3e9-436d-96da-fd970ef449d6",
   "metadata": {},
   "outputs": [
    {
     "name": "stdout",
     "output_type": "stream",
     "text": [
      "    *\n",
      "   ***\n",
      "  *****\n",
      " *******\n",
      "*********\n"
     ]
    }
   ],
   "source": [
    "# Upward Triangle\n",
    "rows = 5\n",
    "\n",
    "for i in range(1, rows + 1):\n",
    "    print(\" \" * (rows - i) + \"*\" * (2 * i - 1))\n"
   ]
  },
  {
   "cell_type": "code",
   "execution_count": null,
   "id": "80125cf3-6eb7-456d-811d-96fed41d1bef",
   "metadata": {},
   "outputs": [],
   "source": []
  },
  {
   "cell_type": "code",
   "execution_count": 15,
   "id": "304346fb-8174-4796-88d2-9f4b4d8203fa",
   "metadata": {},
   "outputs": [
    {
     "name": "stdout",
     "output_type": "stream",
     "text": [
      "  * *   * *   \n",
      "*     *     * \n",
      "*           * \n",
      "  *       *   \n",
      "    *   *     \n",
      "      *       \n"
     ]
    }
   ],
   "source": [
    "# Loop through each row of the heart shape\n",
    "for row in range(6):  \n",
    "    # Loop through each column of the heart shape\n",
    "    for col in range(7):  \n",
    "        # Conditions to print stars (*) at specific positions to form a heart shape\n",
    "        if (row == 0 and col % 3 != 0) or \\\n",
    "           (row == 1 and col % 3 == 0) or \\\n",
    "           (row - col == 2) or \\\n",
    "           (row + col == 8):\n",
    "            print(\"*\", end=\" \")  # Print '*' without newline\n",
    "        else:\n",
    "            print(\" \", end=\" \")  # Print space without newline\n",
    "    print()  # Move to the next line after each row\n"
   ]
  },
  {
   "cell_type": "markdown",
   "id": "1b19eef0-6c0e-42b7-a673-6a7ace872f27",
   "metadata": {},
   "source": [
    "The if conditions determine where stars (*) should be placed to form the heart shape.\n",
    "The print(\"*\", end=\" \") ensures the stars are printed without automatic newlines.\n",
    "print() moves to the next row after finishing the current row.\n"
   ]
  },
  {
   "cell_type": "code",
   "execution_count": null,
   "id": "d8b8ae69-2a25-432d-9ba6-99bc9a8e4c86",
   "metadata": {},
   "outputs": [],
   "source": []
  },
  {
   "cell_type": "markdown",
   "id": "0d33d047",
   "metadata": {},
   "source": [
    "## While loop"
   ]
  },
  {
   "cell_type": "code",
   "execution_count": 7,
   "id": "5123b28d-844b-40b9-96e4-03e5cd1b227c",
   "metadata": {},
   "outputs": [
    {
     "name": "stdin",
     "output_type": "stream",
     "text": [
      "Enter password:  python123\n"
     ]
    },
    {
     "name": "stdout",
     "output_type": "stream",
     "text": [
      "Access granted!\n"
     ]
    }
   ],
   "source": [
    "correct_password = \"python123\"\n",
    "attempt = \"\"\n",
    "\n",
    "while attempt != correct_password:\n",
    "    attempt = input(\"Enter password: \")\n",
    "    if attempt == correct_password:\n",
    "        print(\"Access granted!\")\n",
    "    else:\n",
    "        print(\"Incorrect password, try again.\")\n"
   ]
  },
  {
   "cell_type": "code",
   "execution_count": 39,
   "id": "6b00b53c",
   "metadata": {},
   "outputs": [
    {
     "name": "stdout",
     "output_type": "stream",
     "text": [
      "Hello world!\n",
      "Hello world!\n",
      "Hello world!\n",
      "Hello world!\n",
      "Hello world!\n",
      "Hello world!\n",
      "Hello world!\n",
      "Hello world!\n",
      "Hello world!\n",
      "Hello world!\n"
     ]
    }
   ],
   "source": [
    "count = 0\n",
    "while count < 10:\n",
    "    print(\"Hello world!\")\n",
    "    count = count +1 # very import"
   ]
  },
  {
   "cell_type": "markdown",
   "id": "f567f38c",
   "metadata": {},
   "source": [
    "Please check W3school again"
   ]
  },
  {
   "cell_type": "code",
   "execution_count": 40,
   "id": "fd062368",
   "metadata": {},
   "outputs": [
    {
     "name": "stdout",
     "output_type": "stream",
     "text": [
      "0 is les than 5\n",
      "1 is an odd number\n",
      "2 is les than 5\n",
      "3 is an odd number\n",
      "4 is les than 5\n",
      "5 is an odd number\n",
      "6 is an even number\n",
      "7 is an odd number\n",
      "8 is an even number\n",
      "9 is an odd number\n"
     ]
    }
   ],
   "source": [
    "count = 0\n",
    "while count < 10:\n",
    "    if count % 2 != 0:\n",
    "        print(f'{count} is an odd number')\n",
    "    elif count < 5:\n",
    "        print(f\"{count} is les than 5\")\n",
    "    elif count % 2 == 0:\n",
    "        print(f\"{count} is an even number\")\n",
    "    count += 1\n",
    "        "
   ]
  },
  {
   "cell_type": "code",
   "execution_count": 41,
   "id": "5aed2b49",
   "metadata": {},
   "outputs": [
    {
     "name": "stdout",
     "output_type": "stream",
     "text": [
      "0 is an even number\n",
      "1 is an odd number\n",
      "2 is an even number\n",
      "3 is an odd number\n",
      "4 is an even number\n",
      "5 is an odd number\n",
      "6 is an even number\n",
      "7 is an odd number\n",
      "8 is an even number\n",
      "9 is an odd number\n"
     ]
    }
   ],
   "source": [
    "count = 0\n",
    "while count < 10:\n",
    "    if count % 2 != 0:\n",
    "        print(f'{count} is an odd number')\n",
    "    else:\n",
    "        print(f\"{count} is an even number\")\n",
    "    count += 1"
   ]
  },
  {
   "cell_type": "code",
   "execution_count": 42,
   "id": "87df37fe",
   "metadata": {},
   "outputs": [
    {
     "name": "stdout",
     "output_type": "stream",
     "text": [
      "Python is coll\n",
      "Python is coll\n",
      "Python is coll\n",
      "Python is coll\n",
      "Python is coll\n",
      "Python is coll\n",
      "Python is coll\n",
      "Python is coll\n",
      "Python is coll\n",
      "Python is coll\n"
     ]
    }
   ],
   "source": [
    "count =10\n",
    "while count > 0:\n",
    "    print(\"Python is coll\")\n",
    "    count = count -1"
   ]
  },
  {
   "cell_type": "code",
   "execution_count": null,
   "id": "e29727ef",
   "metadata": {},
   "outputs": [],
   "source": []
  }
 ],
 "metadata": {
  "kernelspec": {
   "display_name": "Python [conda env:miniconda3]",
   "language": "python",
   "name": "conda-env-miniconda3-py"
  },
  "language_info": {
   "codemirror_mode": {
    "name": "ipython",
    "version": 3
   },
   "file_extension": ".py",
   "mimetype": "text/x-python",
   "name": "python",
   "nbconvert_exporter": "python",
   "pygments_lexer": "ipython3",
   "version": "3.12.2"
  }
 },
 "nbformat": 4,
 "nbformat_minor": 5
}
