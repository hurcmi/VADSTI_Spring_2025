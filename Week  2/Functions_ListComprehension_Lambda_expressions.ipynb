{
 "cells": [
  {
   "cell_type": "markdown",
   "id": "bd0e7ad4",
   "metadata": {},
   "source": [
    "* functions\n",
    "* list comprehension\n",
    "* lambda expressions"
   ]
  },
  {
   "cell_type": "markdown",
   "id": "99fa2b8e",
   "metadata": {},
   "source": [
    "# A function is defined as follows:\n",
    "def name_of_your_function(param):\n",
    "\n",
    "    instructions....here...\n",
    "    \n",
    "    return resutl"
   ]
  },
  {
   "cell_type": "code",
   "execution_count": 1,
   "id": "f66c489a",
   "metadata": {},
   "outputs": [],
   "source": [
    "#Example\n",
    "seq = [1,2,3,4,5,6,7,8,9,10]"
   ]
  },
  {
   "cell_type": "markdown",
   "id": "fdbbba5a",
   "metadata": {},
   "source": [
    "### We want to write a function that takes a list of numbers and  returns the list that contains the square of the numbers"
   ]
  },
  {
   "cell_type": "code",
   "execution_count": 2,
   "id": "5f782dce",
   "metadata": {},
   "outputs": [],
   "source": [
    "def square_num(alist):\n",
    "    emp_list = []\n",
    "    for num in alist:\n",
    "        emp_list.append(num**2)\n",
    "    return emp_list"
   ]
  },
  {
   "cell_type": "code",
   "execution_count": 3,
   "id": "e3113ff6",
   "metadata": {},
   "outputs": [
    {
     "data": {
      "text/plain": [
       "[1, 4, 9, 16, 25, 36, 49, 64, 81, 100]"
      ]
     },
     "execution_count": 3,
     "metadata": {},
     "output_type": "execute_result"
    }
   ],
   "source": [
    "square_num(seq)"
   ]
  },
  {
   "cell_type": "code",
   "execution_count": 4,
   "id": "9e101096",
   "metadata": {},
   "outputs": [],
   "source": [
    "def square_number(num):\n",
    "    return num**2\n",
    "   "
   ]
  },
  {
   "cell_type": "code",
   "execution_count": 5,
   "id": "b81abde2",
   "metadata": {
    "scrolled": true
   },
   "outputs": [
    {
     "data": {
      "text/plain": [
       "729"
      ]
     },
     "execution_count": 5,
     "metadata": {},
     "output_type": "execute_result"
    }
   ],
   "source": [
    "square_number(27)"
   ]
  },
  {
   "cell_type": "code",
   "execution_count": 6,
   "id": "8c499229",
   "metadata": {},
   "outputs": [
    {
     "data": {
      "text/plain": [
       "196"
      ]
     },
     "execution_count": 6,
     "metadata": {},
     "output_type": "execute_result"
    }
   ],
   "source": [
    "square_number(-14)"
   ]
  },
  {
   "cell_type": "code",
   "execution_count": 7,
   "id": "05a6688d",
   "metadata": {},
   "outputs": [],
   "source": [
    "my_fruit_bas = ['apple','banana','water melon', 'grape','mango', 'apricot']"
   ]
  },
  {
   "cell_type": "code",
   "execution_count": 8,
   "id": "ccfef3dd",
   "metadata": {},
   "outputs": [],
   "source": [
    "def fruit_list(alist):\n",
    "    emp_fruit = []\n",
    "    for fruit in alist:\n",
    "        if fruit[0] != 'a':\n",
    "            emp_fruit.append(fruit)\n",
    "    return emp_fruit       "
   ]
  },
  {
   "cell_type": "code",
   "execution_count": 9,
   "id": "bee5f8d7",
   "metadata": {},
   "outputs": [
    {
     "data": {
      "text/plain": [
       "['banana', 'water melon', 'grape', 'mango']"
      ]
     },
     "execution_count": 9,
     "metadata": {},
     "output_type": "execute_result"
    }
   ],
   "source": [
    "fruit_list(my_fruit_bas)"
   ]
  },
  {
   "cell_type": "code",
   "execution_count": 10,
   "id": "19015018",
   "metadata": {},
   "outputs": [],
   "source": [
    "# List Comprehension"
   ]
  },
  {
   "cell_type": "code",
   "execution_count": 11,
   "id": "8d708744",
   "metadata": {},
   "outputs": [
    {
     "data": {
      "text/plain": [
       "['banana', 'water melon', 'grape', 'mango']"
      ]
     },
     "execution_count": 11,
     "metadata": {},
     "output_type": "execute_result"
    }
   ],
   "source": [
    "[fruit for fruit in my_fruit_bas if fruit[0]!='a']"
   ]
  },
  {
   "cell_type": "code",
   "execution_count": null,
   "id": "b77f7347-9ae6-4010-aacf-e42f46c50e41",
   "metadata": {},
   "outputs": [],
   "source": []
  },
  {
   "cell_type": "code",
   "execution_count": 1,
   "id": "ba2e76eb-9f5e-4776-a1c9-95cf40d5b2da",
   "metadata": {},
   "outputs": [
    {
     "name": "stdout",
     "output_type": "stream",
     "text": [
      "['Negative', 'Zero', 'Positive', 'Negative', 'Positive', 'Zero', 'Negative']\n"
     ]
    }
   ],
   "source": [
    "numbers = [-5, 0, 7, -2, 9, 0, -1]\n",
    "\n",
    "# Using list comprehension with if-elif-else\n",
    "categories = [\"Positive\" if num > 0 else \"Negative\" if num < 0 else \"Zero\" for num in numbers]\n",
    "\n",
    "print(categories)\n"
   ]
  },
  {
   "cell_type": "code",
   "execution_count": null,
   "id": "257c6d4e-b0bb-4540-88b1-9848b55912a8",
   "metadata": {},
   "outputs": [],
   "source": []
  },
  {
   "cell_type": "code",
   "execution_count": 3,
   "id": "e87cdd58-9044-4d98-98fa-c4f7cd6ee327",
   "metadata": {},
   "outputs": [
    {
     "name": "stdout",
     "output_type": "stream",
     "text": [
      "['Odd', 'Even', 'Odd', 'Even', 'Odd', 'Even', 'Odd', 'Even', 'Odd', 'Even']\n"
     ]
    }
   ],
   "source": [
    "nums = list(range(1, 11))\n",
    "\n",
    "# List comprehension with if-else\n",
    "labels = [\"Even\" if num % 2 == 0 else \"Odd\" for num in nums]\n",
    "\n",
    "print(labels)\n"
   ]
  },
  {
   "cell_type": "code",
   "execution_count": null,
   "id": "0c345658-49bf-4d02-8882-f6551d5f385f",
   "metadata": {},
   "outputs": [],
   "source": []
  },
  {
   "cell_type": "code",
   "execution_count": 12,
   "id": "c9ca3056-79b2-4bc0-bd63-38a305919f6e",
   "metadata": {},
   "outputs": [
    {
     "name": "stdout",
     "output_type": "stream",
     "text": [
      "['Negative', 'Zero', 'Positive', 'Negative', 'Positive', 'Zero', 'Negative']\n"
     ]
    }
   ],
   "source": [
    "numbers = [-5, 0, 7, -2, 9, 0, -1]\n",
    "\n",
    "# List comprehension with if-elif-else\n",
    "categories = [\"Positive\" if num > 0 else \"Negative\" if num < 0 else \"Zero\" for num in numbers]\n",
    "\n",
    "print(categories)\n"
   ]
  },
  {
   "cell_type": "markdown",
   "id": "e3650032-26b7-426f-9982-ade922dc2f86",
   "metadata": {},
   "source": [
    "# Dictionary Conprehension"
   ]
  },
  {
   "cell_type": "code",
   "execution_count": 5,
   "id": "705b715d-3116-43d5-8d01-896b448d8368",
   "metadata": {},
   "outputs": [
    {
     "name": "stdout",
     "output_type": "stream",
     "text": [
      "{'Alice': 'A', 'Bob': 'B', 'Charlie': 'A', 'David': 'C', 'Eve': 'F'}\n"
     ]
    }
   ],
   "source": [
    "scores = {\"Alice\": 85, \"Bob\": 73, \"Charlie\": 90, \"David\": 60, \"Eve\": 45}\n",
    "\n",
    "# Dictionary comprehension with if-elif-else\n",
    "grades = {name: \"A\" if score >= 85 else \"B\" if score >= 70 else \"C\" if score >= 50 else \"F\"\n",
    "          for name, score in scores.items()}\n",
    "\n",
    "print(grades)\n"
   ]
  },
  {
   "cell_type": "code",
   "execution_count": 9,
   "id": "d24c7fb9-5e06-4eb2-adb5-a49e0b297cbe",
   "metadata": {},
   "outputs": [
    {
     "name": "stdout",
     "output_type": "stream",
     "text": [
      "{'New York': 'Cold', 'Los Angeles': 'Warm', 'Chicago': 'Cold', 'Houston': 'Hot', 'Denver': 'Cold'}\n"
     ]
    }
   ],
   "source": [
    "temperatures = {\"New York\": 30, \"Los Angeles\": 75, \"Chicago\": 20, \"Houston\": 85, \"Denver\": 40}\n",
    "\n",
    "# Dictionary comprehension with conditional statements\n",
    "temp_category = {city: \"Cold\" if temp < 50 else \"Warm\" if temp < 80 else \"Hot\"\n",
    "                for city, temp in temperatures.items()}\n",
    "\n",
    "print(temp_category)\n"
   ]
  },
  {
   "cell_type": "code",
   "execution_count": null,
   "id": "f4496f90-703e-44dd-a1ca-383c7e02a609",
   "metadata": {},
   "outputs": [],
   "source": []
  },
  {
   "cell_type": "code",
   "execution_count": null,
   "id": "e40e10ee-61b5-4e6a-8ae6-ecc773a583e1",
   "metadata": {},
   "outputs": [],
   "source": []
  },
  {
   "cell_type": "code",
   "execution_count": null,
   "id": "00852dda-c8dd-4871-bcc5-243a59d51b11",
   "metadata": {},
   "outputs": [],
   "source": []
  },
  {
   "cell_type": "code",
   "execution_count": null,
   "id": "42ae8c20-756d-45ea-8b6b-e3ef5e029e0e",
   "metadata": {},
   "outputs": [],
   "source": []
  },
  {
   "cell_type": "code",
   "execution_count": null,
   "id": "cf2d61c1-7fcc-42f7-add8-9084aceccbc9",
   "metadata": {},
   "outputs": [],
   "source": []
  },
  {
   "cell_type": "code",
   "execution_count": null,
   "id": "dd497908-72dd-43c1-b5a7-6b9cacc8e6ec",
   "metadata": {},
   "outputs": [],
   "source": []
  },
  {
   "cell_type": "markdown",
   "id": "6f6243c4",
   "metadata": {},
   "source": [
    "### We want to write a function that takes one number and returns FizzBuzz if\n",
    "## if the number divisible by 3 and divisible by 5 , \n",
    "## the function will return Fizz if the number is divisible by 3, \n",
    "## the function returns Bazz if the number is divisible by 5, else the function \n",
    "## will return the number"
   ]
  },
  {
   "cell_type": "code",
   "execution_count": 20,
   "id": "3444db17",
   "metadata": {},
   "outputs": [],
   "source": [
    "def FizzBuzz(num):\n",
    "    if(num %3 == 0)&(num % 5 == 0):\n",
    "        print('FizzBuzz')\n",
    "    elif num % 3 ==0:\n",
    "        print(\"Fizz\")\n",
    "    elif num % 5 == 0:\n",
    "        print(\"Bazz\")\n",
    "    else:\n",
    "        print(num)"
   ]
  },
  {
   "cell_type": "code",
   "execution_count": 18,
   "id": "9f30a298",
   "metadata": {},
   "outputs": [
    {
     "data": {
      "text/plain": [
       "['FizzBaz',\n",
       " 1,\n",
       " 2,\n",
       " 'Fizz',\n",
       " 4,\n",
       " 'Bazz',\n",
       " 'Fizz',\n",
       " 7,\n",
       " 8,\n",
       " 'Fizz',\n",
       " 'Bazz',\n",
       " 11,\n",
       " 'Fizz',\n",
       " 13,\n",
       " 14,\n",
       " 'FizzBaz',\n",
       " 16,\n",
       " 17,\n",
       " 'Fizz',\n",
       " 19]"
      ]
     },
     "execution_count": 18,
     "metadata": {},
     "output_type": "execute_result"
    }
   ],
   "source": [
    "['FizzBaz' if (num % 3 == 0)&(num % 5 == 0) else \"Fizz\" if (num % 3 == 0) else \"Bazz\" if (num % 5 == 0) else num  for num in range(0,20)]"
   ]
  },
  {
   "cell_type": "code",
   "execution_count": 13,
   "id": "1f0ccaa0",
   "metadata": {},
   "outputs": [
    {
     "name": "stdout",
     "output_type": "stream",
     "text": [
      "FizzBuzz\n"
     ]
    }
   ],
   "source": [
    "FizzBuzz(30)"
   ]
  },
  {
   "cell_type": "code",
   "execution_count": 14,
   "id": "4b70cec0",
   "metadata": {},
   "outputs": [
    {
     "name": "stdout",
     "output_type": "stream",
     "text": [
      "Fizz\n"
     ]
    }
   ],
   "source": [
    "FizzBuzz(72)"
   ]
  },
  {
   "cell_type": "code",
   "execution_count": 15,
   "id": "cdb95638",
   "metadata": {},
   "outputs": [
    {
     "name": "stdout",
     "output_type": "stream",
     "text": [
      "Bazz\n"
     ]
    }
   ],
   "source": [
    "FizzBuzz(10)"
   ]
  },
  {
   "cell_type": "code",
   "execution_count": 16,
   "id": "3593215c",
   "metadata": {},
   "outputs": [
    {
     "name": "stdout",
     "output_type": "stream",
     "text": [
      "1\n"
     ]
    }
   ],
   "source": [
    "FizzBuzz(1)"
   ]
  },
  {
   "cell_type": "code",
   "execution_count": 21,
   "id": "117472ce",
   "metadata": {},
   "outputs": [],
   "source": [
    "# Lambda function is fefinned as follows:\n",
    "# lambda x: instructions(x) here"
   ]
  },
  {
   "cell_type": "code",
   "execution_count": 22,
   "id": "be13611b",
   "metadata": {},
   "outputs": [],
   "source": [
    "def square_number(num):\n",
    "    return num**2"
   ]
  },
  {
   "cell_type": "code",
   "execution_count": 27,
   "id": "e152927f",
   "metadata": {},
   "outputs": [],
   "source": [
    "S = lambda m: m**2"
   ]
  },
  {
   "cell_type": "code",
   "execution_count": 28,
   "id": "8bfb2df2",
   "metadata": {},
   "outputs": [
    {
     "data": {
      "text/plain": [
       "169"
      ]
     },
     "execution_count": 28,
     "metadata": {},
     "output_type": "execute_result"
    }
   ],
   "source": [
    "S(13)"
   ]
  },
  {
   "cell_type": "code",
   "execution_count": 29,
   "id": "65ca6384",
   "metadata": {},
   "outputs": [],
   "source": [
    "def square_num(alist):\n",
    "    emp_list = []\n",
    "    for num in alist:\n",
    "        emp_list.append(num**2)\n",
    "    return emp_list"
   ]
  },
  {
   "cell_type": "code",
   "execution_count": 30,
   "id": "6c3a16c6",
   "metadata": {},
   "outputs": [
    {
     "data": {
      "text/plain": [
       "[1, 4, 9, 16, 25, 36, 49, 64, 81, 100]"
      ]
     },
     "execution_count": 30,
     "metadata": {},
     "output_type": "execute_result"
    }
   ],
   "source": [
    "square_num(seq)"
   ]
  },
  {
   "cell_type": "code",
   "execution_count": 34,
   "id": "16ac012e",
   "metadata": {},
   "outputs": [
    {
     "data": {
      "text/plain": [
       "[1, 4, 9, 16, 25, 36, 49, 64, 81, 100]"
      ]
     },
     "execution_count": 34,
     "metadata": {},
     "output_type": "execute_result"
    }
   ],
   "source": [
    "[x**2 for x in seq]"
   ]
  },
  {
   "cell_type": "markdown",
   "id": "f9e58cf3",
   "metadata": {},
   "source": [
    "### Lambda Function"
   ]
  },
  {
   "cell_type": "code",
   "execution_count": 1,
   "id": "bb258a7d",
   "metadata": {},
   "outputs": [],
   "source": [
    "def double(num): return num*2"
   ]
  },
  {
   "cell_type": "code",
   "execution_count": 4,
   "id": "87cd8795",
   "metadata": {},
   "outputs": [
    {
     "data": {
      "text/plain": [
       "24"
      ]
     },
     "execution_count": 4,
     "metadata": {},
     "output_type": "execute_result"
    }
   ],
   "source": [
    "double(12)"
   ]
  },
  {
   "cell_type": "code",
   "execution_count": 5,
   "id": "a29232ff",
   "metadata": {},
   "outputs": [],
   "source": [
    "def double(num): \n",
    "    return num*2"
   ]
  },
  {
   "cell_type": "code",
   "execution_count": 6,
   "id": "4111b398",
   "metadata": {},
   "outputs": [],
   "source": [
    "def double(num): return num*2"
   ]
  },
  {
   "cell_type": "code",
   "execution_count": 7,
   "id": "c9f03a8a",
   "metadata": {},
   "outputs": [],
   "source": [
    "D = lambda num:num*2"
   ]
  },
  {
   "cell_type": "code",
   "execution_count": 8,
   "id": "3186944b",
   "metadata": {},
   "outputs": [
    {
     "data": {
      "text/plain": [
       "60"
      ]
     },
     "execution_count": 8,
     "metadata": {},
     "output_type": "execute_result"
    }
   ],
   "source": [
    "D(30)"
   ]
  },
  {
   "cell_type": "code",
   "execution_count": 9,
   "id": "d371baa0",
   "metadata": {},
   "outputs": [
    {
     "data": {
      "text/plain": [
       "22"
      ]
     },
     "execution_count": 9,
     "metadata": {},
     "output_type": "execute_result"
    }
   ],
   "source": [
    "D(11)"
   ]
  },
  {
   "cell_type": "code",
   "execution_count": 10,
   "id": "ad779285",
   "metadata": {},
   "outputs": [],
   "source": [
    "email = 'example@email.com'"
   ]
  },
  {
   "cell_type": "code",
   "execution_count": 13,
   "id": "f0b6d437",
   "metadata": {},
   "outputs": [],
   "source": [
    "S = lambda x: x.split(\"@\")[0]"
   ]
  },
  {
   "cell_type": "code",
   "execution_count": 14,
   "id": "82b2da64",
   "metadata": {},
   "outputs": [
    {
     "data": {
      "text/plain": [
       "'example'"
      ]
     },
     "execution_count": 14,
     "metadata": {},
     "output_type": "execute_result"
    }
   ],
   "source": [
    "S(email)"
   ]
  },
  {
   "cell_type": "code",
   "execution_count": null,
   "id": "f17d6c30",
   "metadata": {},
   "outputs": [],
   "source": []
  }
 ],
 "metadata": {
  "kernelspec": {
   "display_name": "Python [conda env:miniconda3]",
   "language": "python",
   "name": "conda-env-miniconda3-py"
  },
  "language_info": {
   "codemirror_mode": {
    "name": "ipython",
    "version": 3
   },
   "file_extension": ".py",
   "mimetype": "text/x-python",
   "name": "python",
   "nbconvert_exporter": "python",
   "pygments_lexer": "ipython3",
   "version": "3.12.2"
  }
 },
 "nbformat": 4,
 "nbformat_minor": 5
}
