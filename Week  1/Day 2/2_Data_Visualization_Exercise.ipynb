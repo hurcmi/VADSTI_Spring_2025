{
 "cells": [
  {
   "cell_type": "markdown",
   "metadata": {
    "id": "S4cFxt3t22uW"
   },
   "source": [
    "# Foundations of Data Science\n",
    "\n",
    "## Data Visualization Exercise\n",
    "\n",
    "The goal of this exercise is to gain hands on experience on generating graphs and visualizaiton data in python using one of the libraries previously discussed (matplotlib, seaborn, plotly). We will be using a dataset that contains information about covid hospitalization rates in the US.\n",
    "\n",
    "\n",
    "#### Dataset Information:\n",
    "\n",
    "CDC reports aggregate counts of COVID-19 cases and death numbers daily online. Data on the COVID-19 website and CDC’s COVID Data Tracker are based on these most recent numbers reported by states, territories, and other jurisdictions. This data set of “United States COVID-19 Cases and Deaths by State over Time” combines this information. However, data are dependent on jurisdictions’ timely and accurate reporting.\n"
   ]
  },
  {
   "cell_type": "markdown",
   "metadata": {
    "id": "JvauYGVA22uZ"
   },
   "source": [
    "#### Load the dataset"
   ]
  },
  {
   "cell_type": "markdown",
   "metadata": {
    "id": "ziyjIqBA22ua"
   },
   "source": [
    "Load the dataset into a dataframe called ``df``. The dataset is located``./dataset/covid_deaths_data.csv`` folder"
   ]
  },
  {
   "cell_type": "code",
   "execution_count": null,
   "metadata": {
    "id": "bN07ZMql22ua"
   },
   "outputs": [],
   "source": [
    "import pandas as pd\n"
   ]
  },
  {
   "cell_type": "markdown",
   "metadata": {
    "id": "oiFnkwq122ub"
   },
   "source": [
    "#### Display the dataframe's first 5 rows"
   ]
  },
  {
   "cell_type": "code",
   "execution_count": null,
   "metadata": {
    "id": "-VaGVHbv22uc"
   },
   "outputs": [],
   "source": []
  },
  {
   "cell_type": "markdown",
   "metadata": {
    "id": "oQjAT6nE22uc"
   },
   "source": [
    "#### Check for null values in each column."
   ]
  },
  {
   "cell_type": "code",
   "execution_count": null,
   "metadata": {
    "id": "pL1lFBOU22uc"
   },
   "outputs": [],
   "source": []
  },
  {
   "cell_type": "markdown",
   "metadata": {
    "id": "McHC90mg22ud"
   },
   "source": [
    "#### Delete all of the rows with null values"
   ]
  },
  {
   "cell_type": "code",
   "execution_count": null,
   "metadata": {
    "id": "qcOKh4xv22ud"
   },
   "outputs": [],
   "source": []
  },
  {
   "cell_type": "markdown",
   "metadata": {
    "id": "s8ptWNFV22ud"
   },
   "source": [
    "#### Display summary information of the tables. (hint: use ``describe()`` )"
   ]
  },
  {
   "cell_type": "code",
   "execution_count": null,
   "metadata": {
    "id": "uKVB991S22ue"
   },
   "outputs": [],
   "source": []
  },
  {
   "cell_type": "markdown",
   "metadata": {
    "id": "Us6XzvZS22ue"
   },
   "source": [
    "#### Visualize the total death for any 5 states (e.g. Total deaths for TX, CA, FL, PA, NJ)"
   ]
  },
  {
   "cell_type": "code",
   "execution_count": null,
   "metadata": {
    "id": "GXR9ZxDC22ue"
   },
   "outputs": [],
   "source": []
  },
  {
   "cell_type": "markdown",
   "metadata": {
    "id": "nycM4-Zr22ue"
   },
   "source": [
    "#### Visualize the percentage of confirmed cases for any 5 states."
   ]
  },
  {
   "cell_type": "code",
   "execution_count": null,
   "metadata": {
    "id": "Crsj9t2I22ue"
   },
   "outputs": [],
   "source": []
  },
  {
   "cell_type": "markdown",
   "metadata": {
    "id": "I8OrPGxp22uf"
   },
   "source": [
    "#### Save figures to folder ./figures/figures.png"
   ]
  },
  {
   "cell_type": "code",
   "execution_count": null,
   "metadata": {
    "id": "2pgpVObR22uf"
   },
   "outputs": [],
   "source": []
  }
 ],
 "metadata": {
  "colab": {
   "provenance": []
  },
  "kernelspec": {
   "display_name": "Python [conda env:base] *",
   "language": "python",
   "name": "conda-base-py"
  },
  "language_info": {
   "codemirror_mode": {
    "name": "ipython",
    "version": 3
   },
   "file_extension": ".py",
   "mimetype": "text/x-python",
   "name": "python",
   "nbconvert_exporter": "python",
   "pygments_lexer": "ipython3",
   "version": "3.12.7"
  }
 },
 "nbformat": 4,
 "nbformat_minor": 4
}
