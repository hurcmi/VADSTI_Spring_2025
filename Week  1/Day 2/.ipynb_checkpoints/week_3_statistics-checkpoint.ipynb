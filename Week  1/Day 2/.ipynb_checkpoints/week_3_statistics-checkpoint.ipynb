{
 "cells": [
  {
   "cell_type": "markdown",
   "id": "e3c84601-45ef-42e5-9702-1a8e1e27aca5",
   "metadata": {},
   "source": [
    "# Week 3: Basic Statistical Methods\n",
    "\n",
    "## Overview:\n",
    "In this week, we will cover basic statistical methods such as:\n",
    "\n",
    "1. Descriptive statistics and measures of central tendency.\n",
    "2. Measures of variability and distribution.\n",
    "3. Hypothesis testing and significance testing.\n",
    "4. Confidence intervals."
   ]
  },
  {
   "cell_type": "markdown",
   "id": "4f5ac326-03ee-4cf2-ac20-e446a50a45ce",
   "metadata": {
    "tags": []
   },
   "source": [
    "#### For the sake of the examples, we will be using Python and its powerful libraries such as numpy, pandas, scipy, and statsmodels. Let's start with importing them:"
   ]
  },
  {
   "cell_type": "code",
   "execution_count": null,
   "id": "6628ca10-1a92-474e-adde-5fda64182df7",
   "metadata": {},
   "outputs": [],
   "source": [
    "import numpy as np\n",
    "import pandas as pd\n",
    "from scipy import stats\n",
    "import statsmodels.api as sm\n",
    "import seaborn as sns\n",
    "from scipy.stats import skew, norm\n",
    "import numpy as np"
   ]
  },
  {
   "cell_type": "markdown",
   "id": "48f493f7-4f0f-4118-9cde-5720ada9424a",
   "metadata": {},
   "source": [
    "Here is a brief description of the following libraries used:\n",
    "    \n",
    "\n",
    "1. **NumPy (Numerical Python)**: NumPy is the fundamental package for numerical computation in Python. It provides support for arrays (including multi-dimensional arrays), along with functions for mathematical operations like numerical integration, interpolation, transformation, linear algebra, and more.\n",
    "\n",
    "2. **Matplotlib**: Matplotlib is a plotting library for Python. It provides a wide array of functions for creating static, animated, and interactive visualizations in Python. Matplotlib can generate plots like histograms, scatterplots, non-Cartesian coordinates graphs, and much more.\n",
    "\n",
    "3. **Seaborn**: Seaborn is a statistical data visualization library based on Matplotlib. It provides a high-level interface for creating attractive graphics. Seaborn has visualisation features for statistical modeling, such as displaying the outcomes of linear regression models, visualizing pairwise relationships in a dataset, and more.\n",
    "\n",
    "4. **SciPy (Scientific Python)**: SciPy is a library used for scientific and technical computing. It builds on NumPy by adding more advanced mathematical functions like integral calculus, differential equation solvers, optimization, signal processing, and more.\n",
    "\n",
    "5. **Statsmodels**: Statsmodels is a Python module that allows users to explore data, estimate statistical models, and perform statistical tests. It provides descriptive statistics, statistical tests, plotting functions, and result statistics.\n"
   ]
  },
  {
   "cell_type": "markdown",
   "id": "5e8d75ee-1f8e-48e2-898e-34141186eb0f",
   "metadata": {},
   "source": [
    "## Part 1: Descriptive statistics and measures of central tendency"
   ]
  },
  {
   "cell_type": "markdown",
   "id": "8f8b23c1-fcf0-4ae9-995a-23e1ea794b27",
   "metadata": {},
   "source": [
    "**Descriptive statistics** is the term given to the analysis of data that helps describe, show or summarize data in a meaningful way.\n",
    "\n",
    "### Measures of Central Tendency: \n",
    "\n",
    "Measure of Central Tendencies are statistical measures which identify a single score as representative of an entire distribution. The main measures are:"
   ]
  },
  {
   "cell_type": "markdown",
   "id": "aa77e4c1-aca2-490f-889c-4feec5d2ce3f",
   "metadata": {},
   "source": [
    "### Dataset Visualization"
   ]
  },
  {
   "cell_type": "code",
   "execution_count": null,
   "id": "0c16952b-6a22-40b0-ace5-b6ea4ef30a53",
   "metadata": {},
   "outputs": [],
   "source": [
    "# Data\n",
    "data = [1, 3, 5, 2, 3, 7, 8, 4, 10, 0]\n",
    "\n",
    "# Mean and Median\n",
    "mean = np.mean(data)\n",
    "median = np.median(data)\n",
    "\n",
    "# Skewness\n",
    "data_skew = skew(data)\n",
    "\n",
    "# Creating a distplot with a distribution curve (KDE)\n",
    "sns.distplot(data, bins=10, kde=True)\n",
    "\n",
    "# Adding lines for the mean, median and skewness\n",
    "plt.axvline(mean, color='red', linestyle='dashed', linewidth=1, label='Mean')\n",
    "plt.axvline(median, color='green', linestyle='dotted', linewidth=1, label='Median')\n",
    "\n",
    "# Skewness is a property of the distribution, so we don't add a line for it. \n",
    "# Instead, we print it.\n",
    "print(\"Skewness of data: \", data_skew)\n",
    "\n",
    "# Adding legends\n",
    "plt.legend()\n",
    "\n",
    "# Show the plot\n",
    "plt.show()\n"
   ]
  },
  {
   "cell_type": "markdown",
   "id": "18464ff5-ab40-461b-a7be-b66d6d70b689",
   "metadata": {},
   "source": [
    "#### **Mean (average)**: \n",
    " The sum of all the numbers in a list divided by the count of numbers in that list. If you have 'n' numbers in a data set, the mean (μ) of the numbers is given by the formula:\n",
    "\n",
    "$$\n",
    "\\mu = \\frac{1}{n} \\sum_{i=1}^{n} x_i\n",
    "$$\n",
    "\n",
    "Where:\n",
    "\n",
    "- 'n' is the total number of values in the data set,\n",
    "- 'xi' represents each value in the set,\n",
    "- '∑' is the sum of the values."
   ]
  },
  {
   "cell_type": "markdown",
   "id": "870acd25-3f16-4858-b43a-28ca37c4660d",
   "metadata": {},
   "source": [
    "Example of Mean using the following set of numbers: (1 + 3 + 5 + 2 + 3 + 7 + 8 + 4 + 10 + 0) / 10 = 43 / 10 = 4.3"
   ]
  },
  {
   "cell_type": "code",
   "execution_count": null,
   "id": "2c20d105-115e-4587-a354-33238d90dce7",
   "metadata": {},
   "outputs": [],
   "source": [
    "data = np.array([1, 3, 5, 2, 3, 7, 8, 4, 10, 0])\n",
    "mean = np.mean(data)\n",
    "print('Mean: ', mean)"
   ]
  },
  {
   "cell_type": "markdown",
   "id": "2e9b66fc-0fb9-4684-bf61-01b73d7dae7c",
   "metadata": {},
   "source": [
    "You should use the mean when:\n",
    "- the data are interval or ratio scaled\n",
    "    - Many people will use the mean with ordinally scaled data too\n",
    "    - and the data are not skewed\n",
    "- The mean is preferred because it is sensitive to every score\n",
    "    - If you change one score in the data set, the mean will change\n"
   ]
  },
  {
   "cell_type": "markdown",
   "id": "f0acdd1e-9633-4628-b49c-26a2d76bee5d",
   "metadata": {},
   "source": [
    "#### **Median**: \n",
    "The middle number in a sorted, ascending or descending, list of numbers. \n",
    "\n",
    " - Conceptually, it is easy to calculate the median\n",
    "    - There are many minor problems that can occur; it is best to let a computer do it\n",
    "\n",
    "        - Sort the data from highest to lowest\n",
    "        - Find the score in the middle\n",
    "            - middle = (N + 1) / 2 \n",
    "            - If N, the number of scores, is even the median is the average of the middle two scores"
   ]
  },
  {
   "cell_type": "code",
   "execution_count": null,
   "id": "038b0cbf-afe8-46fe-9d28-0ef6cb3160da",
   "metadata": {},
   "outputs": [],
   "source": [
    "median = np.median(data)\n",
    "print('Median: ', median)"
   ]
  },
  {
   "cell_type": "markdown",
   "id": "658c4ce2-8812-4d2c-9468-e7c6589baa90",
   "metadata": {},
   "source": [
    "When to use the Median: \n",
    "- The median is often used when the distribution of scores is either positively or negatively skewed\n",
    "    - The few really large scores (positively skewed) or really small scores (negatively skewed) will not overly influence the median\n"
   ]
  },
  {
   "cell_type": "markdown",
   "id": "2112362d-e474-47c9-87a6-6bca317dbd8c",
   "metadata": {},
   "source": [
    "#### **Mode**: \n",
    "The number that occurs most frequently in a data set."
   ]
  },
  {
   "cell_type": "code",
   "execution_count": null,
   "id": "d43cf994-7304-4581-b77d-22e99bbb58c5",
   "metadata": {},
   "outputs": [],
   "source": [
    "mode = np.mode(data)\n",
    "print('Mode: ', mode)"
   ]
  },
  {
   "attachments": {
    "8cb18bfc-61b7-4d4a-9222-13a371367b81.png": {
     "image/png": "[encoded data removed]"
    }
   },
   "cell_type": "markdown",
   "id": "c705fd93-9a26-476c-a7ac-e6158217f431",
   "metadata": {
    "tags": []
   },
   "source": [
    "#### Bimodal Distributions\n",
    "\n",
    "When a distribution has two “modes,” it is called bimodal\n",
    "\n",
    "![image.png](attachment:8cb18bfc-61b7-4d4a-9222-13a371367b81.png)"
   ]
  },
  {
   "cell_type": "markdown",
   "id": "f5816bfe-c825-41e4-bae4-69072065ced6",
   "metadata": {},
   "source": [
    "When to Use the Mode:\n",
    "- The mode is not a very useful measure of central tendency\n",
    "    - It is insensitive to large changes in the data set\n",
    "        - That is, two data sets that are very different from each other can have the same mode\n"
   ]
  },
  {
   "cell_type": "markdown",
   "id": "61be7ed8-9290-46f8-8603-22816b009f43",
   "metadata": {},
   "source": [
    "## Part 2: Measures of Variability and Distribution\n",
    "Variability is the extent to which data points in a statistical distribution or data set diverge from the average value, as well as the extent to which these data points differ from each other."
   ]
  },
  {
   "cell_type": "markdown",
   "id": "11a9ff96-85fd-4d11-b0cd-740b18a53af2",
   "metadata": {},
   "source": [
    "### 2.1 Key Measures:"
   ]
  },
  {
   "attachments": {},
   "cell_type": "markdown",
   "id": "d3633d58-37b5-4e73-bff9-1bbbd9f488b8",
   "metadata": {},
   "source": [
    "#### **Variance**: \n",
    "\n",
    "This is the average of the squared differences from the mean.\n",
    "\n",
    "<img src=\"attachment:81cd2209-f505-4b75-85c4-3a3568b19d44.png\" width=\"450\" height=\"300\">\n"
   ]
  },
  {
   "cell_type": "markdown",
   "id": "36b258a9-2503-45e5-850c-107192413aab",
   "metadata": {
    "jp-MarkdownHeadingCollapsed": true,
    "tags": []
   },
   "source": [
    "The formula for the variance of a population (σ²) and a sample (s²) are given by:\n",
    "\n",
    "- **Population Variance:**\n",
    "\n",
    "If you have 'N' numbers in a population, the population variance (σ²) is given by the formula:\n",
    "\n",
    "$$\n",
    "\\sigma^2 = \\frac{1}{N} \\sum_{i=1}^{N} (x_i - \\mu)^2\n",
    "$$\n",
    "\n",
    "Where:\n",
    "- 'N' is the total number of values in the population,\n",
    "- 'xi' represents each value in the population,\n",
    "- 'μ' is the mean of the population,\n",
    "- '∑' is the sum of the values.\n",
    "\n",
    "- **Sample Variance:**\n",
    "\n",
    "If you have 'n' numbers in a sample, the sample variance (s²) is given by the formula:\n",
    "\n",
    "$$\n",
    "s^2 = \\frac{1}{n-1} \\sum_{i=1}^{n} (x_i - \\bar{x})^2\n",
    "$$\n",
    "\n",
    "Where:\n",
    "- 'n' is the total number of values in the sample,\n",
    "- 'xi' represents each value in the sample,\n",
    "- 'x̄' is the mean of the sample,\n",
    "- '∑' is the sum of the values."
   ]
  },
  {
   "cell_type": "markdown",
   "id": "3b4e378c-a4b8-4170-8431-8bf80abe26e0",
   "metadata": {},
   "source": [
    "**Calculating the Variance:** \n",
    "\n",
    "Step 1: Calculate the mean (which we've already done)\n",
    "\n",
    "Step 2: Subtract the Mean from each number (the difference) and then square the result (squared difference).\n",
    "\n",
    "     (1-4.3)^2 = 10.89\n",
    "     (3-4.3)^2 = 1.69\n",
    "     (5-4.3)^2 = 0.49\n",
    "     (2-4.3)^2 = 5.29\n",
    "     (3-4.3)^2 = 1.69\n",
    "     (7-4.3)^2 = 7.29\n",
    "     (8-4.3)^2 = 13.69\n",
    "     (4-4.3)^2 = 0.09\n",
    "     (10-4.3)^2 = 32.49\n",
    "     (0-4.3)^2 = 18.49\n",
    "     \n",
    "Step 3: Calculate the average of these squared differences.\n",
    "\n",
    "Variance = (10.89 + 1.69 + 0.49 + 5.29 + 1.69 + 7.29 + 13.69 + 0.09 + 32.49 + 18.49) / 10 = 91.91 / 10 = 9.191"
   ]
  },
  {
   "cell_type": "code",
   "execution_count": null,
   "id": "838e009f-673b-4b94-b7a8-665651b3aa3b",
   "metadata": {},
   "outputs": [],
   "source": [
    "import numpy as np\n",
    "\n",
    "# Suppose we have the following data\n",
    "data = np.array([1, 3, 5, 2, 3, 7, 8, 4, 10, 0])\n",
    "\n",
    "# Population Variance\n",
    "population_variance = np.var(data)\n",
    "print('Population Variance: ', population_variance)\n",
    "\n",
    "# Sample Variance\n",
    "sample_variance = np.var(data, ddof=1)\n",
    "print('Sample Variance: ', sample_variance)"
   ]
  },
  {
   "cell_type": "markdown",
   "id": "a0457dae-52d8-4443-aab0-4c0aeb99fe46",
   "metadata": {},
   "source": [
    "The key difference between population variance and sample variance lies in their purpose and the way they're calculated.\n",
    "\n",
    "**Population Variance (σ²):** This refers to the variance (a measurement of spread) of an entire population. It includes all elements from a set of data. Population variance gives a correct picture of the data distribution, but it's not always possible to have data for an entire population.\n",
    "\n",
    "**Sample Variance (s²):** When dealing with large data sets, often it is not feasible to calculate the population variance. In such cases, a sample (a subset of the population) is taken, and the variance is calculated for this sample. This is known as the sample variance. The sample variance is used as an estimate of the population variance. The formula for sample variance includes 'n-1' in the denominator (instead of 'n' in population variance) to compensate for the fact that a sample tends to provide a less accurate measure of variance than does the entire population. "
   ]
  },
  {
   "cell_type": "markdown",
   "id": "4623e0dd-0c59-4812-a9f1-e684ddaca4f9",
   "metadata": {},
   "source": [
    "In the above code, `ddof` stands for 'Delta Degrees of Freedom'. When `ddof` is set to 1, it performs the computation consistent with `n-1` in the denominator, which is the formula for sample variance. The default value is 0, which is consistent with `N` in the denominator, used for population variance.\n",
    "\n",
    "It's worth noting that, by default, numpy's `var` function calculates the population variance. If you want to calculate the sample variance, you have to change the `ddof` parameter to 1."
   ]
  },
  {
   "cell_type": "markdown",
   "id": "8cea6b7a-91e6-4ca3-8648-74866903cb21",
   "metadata": {},
   "source": [
    "#### **Standard Deviation**: \n",
    "\n",
    "The standard deviation is a measure of the amount of variation or dispersion of a set of values. A low standard deviation indicates that the values tend to be close to the mean (also called the expected value) of the set, while a high standard deviation indicates that the values are spread out over a wider range. The standard deviation of a random variable, sample, statistical population, data set, or probability distribution is the square root of its variance. "
   ]
  },
  {
   "attachments": {},
   "cell_type": "markdown",
   "id": "964adf6c-c68f-44fd-9f25-2dfcdcfa3230",
   "metadata": {},
   "source": [
    "The standard deviation is a measure of how spread out numbers are in a set of data. It is the square root of the variance. \n",
    "\n",
    "\n",
    "<img src=\"attachment:1e1f52d2-c0d2-4ee1-ae13-1b5cb4bce030.png\" width=\"500\" height=\"300\">\n",
    "\n",
    "The formulas for standard deviation for a population (σ) and a sample (s) are given by:\n",
    "\n",
    "### Standard Deviation:\n",
    "\n",
    "- **Population Standard Deviation:**\n",
    "\n",
    "$$\n",
    "\\sigma = \\sqrt{\\frac{1}{N} \\sum_{i=1}^{N} (x_i - \\mu)^2}\n",
    "$$\n",
    "\n",
    "Where:\n",
    "- 'N' is the total number of values in the population,\n",
    "- 'xi' represents each value in the population,\n",
    "- 'μ' is the mean of the population,\n",
    "- '∑' is the sum of the values.\n",
    "\n",
    "- **Sample Standard Deviation:**\n",
    "\n",
    "$$\n",
    "s = \\sqrt{\\frac{1}{n-1} \\sum_{i=1}^{n} (x_i - \\bar{x})^2}\n",
    "$$\n",
    "\n",
    "Where:\n",
    "- 'n' is the total number of values in the sample,\n",
    "- 'xi' represents each value in the sample,\n",
    "- 'x̄' is the mean of the sample,\n",
    "- '∑' is the sum of the values."
   ]
  },
  {
   "cell_type": "markdown",
   "id": "64a793ee-81cb-48a3-a60b-caabbd997167",
   "metadata": {},
   "source": [
    "**Calculating the Standard Deviation:**\n",
    "\n",
    "Standard Deviation = sqrt(Variance) = sqrt(9.191) ≈ 3.03"
   ]
  },
  {
   "cell_type": "code",
   "execution_count": null,
   "id": "cb651a8a-b7b5-4b54-b288-0b584d2254c2",
   "metadata": {},
   "outputs": [],
   "source": [
    "std_dev = np.std(data)\n",
    "print('Standard Deviation: ', std_dev)"
   ]
  },
  {
   "cell_type": "markdown",
   "id": "69b380be-6151-4824-872e-7b1f59b445ac",
   "metadata": {},
   "source": [
    "- **Skewness**: It is the degree of distortion from the symmetrical bell curve or the normal distribution. It measures the lack of symmetry in data distribution."
   ]
  },
  {
   "attachments": {
    "cabcaadc-444b-4890-9676-4ea59c5a0c4b.png": {
     "image/png": "[encoded data removed]"
    }
   },
   "cell_type": "markdown",
   "id": "49b86c37-5129-49d1-af9d-1bb883cd5a14",
   "metadata": {},
   "source": [
    "![image.png](attachment:cabcaadc-444b-4890-9676-4ea59c5a0c4b.png)"
   ]
  },
  {
   "cell_type": "code",
   "execution_count": null,
   "id": "fd37d2e7-df79-4a76-b11d-c638cc8e897d",
   "metadata": {},
   "outputs": [],
   "source": [
    "skewness = stats.skew(data)\n",
    "print('Skewness: ', skewness)"
   ]
  },
  {
   "cell_type": "markdown",
   "id": "2f0afafd-62d5-468b-8259-51848e67d085",
   "metadata": {},
   "source": [
    "In a perfectly symmetrical dataset, the skewness would be zero. \n",
    "\n",
    "Here are general rules of thumb:\n",
    "\n",
    "1. If skewness is less than -1 or greater than 1, the distribution is highly skewed.\n",
    "2. If skewness is between -1 and -0.5 or between 0.5 and 1, the distribution is moderately skewed.\n",
    "3. If skewness is between -0.5 and 0.5, the distribution is approximately symmetric.\n",
    "\n",
    "So, in an ideal situation where the data is symmetrically distributed, the skewness would be 0. However, in reality, many datasets are not perfectly symmetrical. It's important to note that skewness in itself is not necessarily a bad thing, but it may affect certain statistical analyses and models which assume normally distributed data. In such cases, techniques to reduce skewness, such as transformations, may be used."
   ]
  },
  {
   "cell_type": "markdown",
   "id": "3c95e694-8277-4270-9c6b-5822a6eb05fa",
   "metadata": {
    "tags": []
   },
   "source": [
    "## Part 3: Hypothesis Testing and Significance Testing\n",
    "\n",
    "Hypothesis testing is a statistical method that is used in making statistical decisions using experimental data. It's basically an assumption that we make about the population parameter.The method involves creating two competing hypotheses:\n",
    "\n",
    "- **Null Hypothesis (H0):** This hypothesis states that there is no effect or relationship between the variables you are observing. It's the default hypothesis that you assume to be true until evidence suggests otherwise.\n",
    "\n",
    "- **Alternative Hypothesis (Ha or H1):** This hypothesis is the opposite of the null hypothesis and represents the effect or relationship that you expect to find in your data.\n",
    "\n",
    "The goal of hypothesis testing is to gather and analyze sample data to determine which hypothesis is more likely, given the data."
   ]
  },
  {
   "attachments": {
    "f2c4964a-a936-4ab6-b553-531c7aaec061.png": {
     "image/png": "[encoded data removed]"
    }
   },
   "cell_type": "markdown",
   "id": "f9f23a65-bc8e-4443-96a7-5ddbf206767b",
   "metadata": {},
   "source": [
    "### Steps involved in hypothesis testing:\n",
    "\n",
    "\n",
    "1. **Formulate the Hypotheses:** The first step is to formulate the null hypothesis (H0) and the alternative hypothesis (H1 or Ha).\n",
    "\n",
    "   - The null hypothesis (H0) is a statement of no effect or no difference. It's what we assume to be true before we collect data.\n",
    "   \n",
    "   - The alternative hypothesis (H1 or Ha) is the statement that you want to be able to conclude is true.\n",
    "   \n",
    "2. **Choose the Significance Level (α):** The significance level (also known as the \"alpha level\") is the probability of rejecting the null hypothesis when it is true. The most commonly used significance level is 0.05, which means that we are willing to accept a 5% chance of wrongly rejecting the null hypothesis.\n",
    "\n",
    "3. **Select the Appropriate Test Statistic:** Depending on the nature of the data and the reason for the analysis, choose an appropriate statistical test. This could be a t-test, chi-square test, ANOVA, etc.\n",
    "\n",
    "4. **Calculate the Test Statistic and Corresponding P-Value:** Once you've chosen your statistical test, you can perform the test, which provides a test statistic and a corresponding p-value. The test statistic tells us how far our sample statistic is from the null hypothesis. The p-value is the probability of observing a test statistic as extreme as the one calculated, given that the null hypothesis is true.\n",
    "\n",
    "5. **Compare the P-value to the Significance Level:** If the p-value is less than or equal to the chosen significance level (α), you reject the null hypothesis in favor of the alternative hypothesis. If the p-value is greater than α, you do not reject the null hypothesis.\n",
    "\n",
    "6. **Make a Decision and Interpret the Result:** Based on the comparison, you make a decision:\n",
    "\n",
    "   - If you reject the null hypothesis, it suggests that the effect observed in the data is statistically significant.\n",
    "   - If you fail to reject the null hypothesis, this does not necessarily mean the null hypothesis is true, just that there's not enough evidence against it given your data and chosen significance level.\n",
    "\n",
    "Remember, hypothesis testing does not prove the null hypothesis or the alternative hypothesis. It simply provides evidence to support one or the other.\n",
    "\n",
    "\n",
    "![image.png](attachment:f2c4964a-a936-4ab6-b553-531c7aaec061.png)"
   ]
  },
  {
   "cell_type": "markdown",
   "id": "26bbde55-9819-4e1b-aeae-1ab4f35297c4",
   "metadata": {},
   "source": [
    "### **Significance Testing:** \n",
    "\n",
    "This is a part of hypothesis testing and is used to determine the probability that the observed effect in your sample occurred due to chance. It's a measure of how confident you can be that the results from your sample data occurred by something other than random luck.\n",
    "\n",
    "To conduct a significance test, you calculate a test statistic, which is based on your sample data. This test statistic is then compared to a critical value that's determined by your chosen significance level (commonly 5% or 0.05).\n",
    "\n",
    "**P-value:** The P-value is the probability of obtaining a result as extreme as the one that was actually observed, assuming that the null hypothesis is true. If the P-value is less than or equal to the significance level, you reject the null hypothesis and accept the alternative hypothesis.\n",
    "\n",
    "**Alpha (α):** This is the significance level, and it represents the probability of rejecting the null hypothesis when it's true. Commonly set at 0.05, if the P-value is less than α, the null hypothesis is rejected.\n",
    "\n",
    "In essence, hypothesis testing is a way to test the validity of a claim about a population based on a sample of data. Significance testing helps quantify the strength of the evidence against the null hypothesis.\n",
    "\n",
    "A null hypothesis may be rejected, but it can never be accepted based on a single test. "
   ]
  },
  {
   "cell_type": "markdown",
   "id": "31b39a08-93ae-445a-a735-0f54ca3ad606",
   "metadata": {},
   "source": [
    "### **Selecting an Appropriate Test**\n",
    "The test statistic measures how close the sample has come to the null hypothesis. The test statistic often follows a well-known distribution (eg, normal, t, or chi-square). There are various statistical tests that can be used for hypothesis testing depending on the nature of the data and the specific hypotheses. Here are some of the common ones:\n",
    "\n",
    "1. **Z-Test:** The Z-test is used when we have a large sample size (typically more than 30), and we know the population standard deviation. It's used to compare the sample and population means to check if there's a significant difference.\n",
    "\n",
    "2. **T-Test:** The T-test is used when we have a smaller sample size (typically less than 30), and/or we do not know the population standard deviation. The t-test is often used to compare the means of two samples. There are three types: \n",
    "   - One-sample t-test: When comparing the mean of a single group against a known mean.\n",
    "   - Independent two-sample t-test: When comparing the means of two independent groups.\n",
    "   - Paired t-test: When comparing means of the same group at different times (say, one year apart).\n",
    "\n",
    "3. **Chi-Square Test:** The Chi-square test is used when dealing with categorical data. It's used to determine if there's a significant association between two categorical variables.\n",
    "\n",
    "4. **F-Test:** The F-test is used to compare the variances of two populations. It's also used in the context of ANOVA, where it's used to determine whether the means of three or more groups are different.\n",
    "\n",
    "5. **ANOVA (Analysis of Variance):** ANOVA is used to compare the means of three or more groups. It's similar to the t-test but is used when we have more than two groups.\n",
    "\n",
    "6. **Mann-Whitney U Test:** This is a non-parametric test that's used to compare two unpaired groups when the data is not normally distributed.\n",
    "\n",
    "7. **Wilcoxon Signed-Rank Test:** This is a non-parametric test used to compare two paired groups when the data is not normally distributed.\n",
    "\n",
    "Remember to always check the assumptions of the statistical test you are using, as different tests have different assumptions regarding things like the distribution of the data, the scale of measurement of the data, the independence of observations, and so on."
   ]
  },
  {
   "cell_type": "markdown",
   "id": "a5594f15-453e-4ade-bbc4-82d639ae1e37",
   "metadata": {},
   "source": [
    "Here is a an illustration of how to check for the appropriate Hypothesis test.\n",
    "\n",
    "![](http://d33wubrfki0l68.cloudfront.net/61710dface4b4dcef2ba78dba1a38d7d509be9cd/48d1a/img/hypothesis_testing/hypothesis_testing_flow_mean.png)\n",
    "\n",
    "source: https://www.rebeccabarter.com/blog/2018-12-04_hypothesis_testing"
   ]
  },
  {
   "cell_type": "markdown",
   "id": "b055af27-0239-40ec-ba92-553955744be3",
   "metadata": {},
   "source": [
    "**Example 1: BMI Comparison**"
   ]
  },
  {
   "cell_type": "markdown",
   "id": "5841210f-0eac-4f21-98ce-2eb1a3176157",
   "metadata": {},
   "source": [
    "Consider an example where we have a sample of Body Mass Index (BMI) scores from a particular region, and we want to compare this to a known average BMI score.\n",
    "\n",
    "Assume that the known average BMI score is 25.0. We are interested in testing whether the average BMI in our sample differs significantly from this known average. We'll use a one-sample t-test again."
   ]
  },
  {
   "cell_type": "code",
   "execution_count": null,
   "id": "02250e29-7bd0-4aea-8bb2-e42a2e4ba4b3",
   "metadata": {},
   "outputs": [],
   "source": [
    "# import necessary libraries\n",
    "import numpy as np\n",
    "from scipy import stats\n",
    "\n",
    "# BMI scores for a sample of individuals\n",
    "bmi_scores = [26.5, 27.8, 26.3, 25.1, 26.6, 27.8, 28.5, 24.8, 25.6, 26.9]\n",
    "\n",
    "# Null hypothesis (H0): The mean BMI in the sample is equal to the known average (µ = µ0)\n",
    "# Alternate hypothesis (H1): The mean BMI in the sample is not equal to the known average (µ ≠ µ0)\n",
    "\n",
    "# Known average\n",
    "known_average_bmi = 25.0\n",
    "\n",
    "# Conduct the t-test\n",
    "t_stat, p_value = stats.ttest_1samp(bmi_scores, known_average_bmi)\n",
    "\n",
    "print('Test Statistic: ', t_stat)\n",
    "print('p-value: ', p_value)\n",
    "\n",
    "# Decision making\n",
    "alpha = 0.05 # significance level\n",
    "if p_value < alpha:\n",
    "    print(\"We reject the null hypothesis. The average BMI in the sample is significantly different from the known average.\")\n",
    "else:\n",
    "    print(\"We do not reject the null hypothesis. We do not have enough evidence to conclude that the average BMI in the sample is different from the known average.\")"
   ]
  },
  {
   "cell_type": "markdown",
   "id": "be79fc97-39c8-4882-bb87-5d49a98675f8",
   "metadata": {},
   "source": [
    "In the script above, we calculate the t-statistic and p-value using the `ttest_1samp()` function from `scipy.stats` module. The decision about the null hypothesis is made based on the comparison of p-value and the chosen significance level (alpha)."
   ]
  },
  {
   "cell_type": "markdown",
   "id": "f336435d-4182-4834-b384-0cc099106aca",
   "metadata": {},
   "source": [
    "**Example 2: Population Mean**"
   ]
  },
  {
   "cell_type": "markdown",
   "id": "ceda503a-fbec-4620-a26a-b20088f006eb",
   "metadata": {},
   "source": [
    "In this example, we'll test the claim that the mean of a sample is equal to a claimed population mean. We'll use a one-sample t-test for this purpose.\n",
    "\n",
    "The steps we'll follow are:\n",
    "1. Formulate the null and alternative hypotheses.\n",
    "2. Calculate the test statistic.\n",
    "3. Determine the critical value for our chosen significance level.\n",
    "4. Compare the test statistic with the critical value to make a decision about the null hypothesis.\n",
    "\n",
    "For this example, let's assume we have a sample data of ages of 10 individuals and the claimed population mean is 30."
   ]
  },
  {
   "cell_type": "code",
   "execution_count": null,
   "id": "316cc59d-1658-4cf3-b62d-866f1b5f54b3",
   "metadata": {},
   "outputs": [],
   "source": [
    "# import necessary libraries\n",
    "import numpy as np\n",
    "from scipy import stats\n",
    "\n",
    "# sample data\n",
    "sample_data = [32, 34, 29, 29, 22, 24, 35, 22, 24, 35]\n",
    "\n",
    "# Step 1: Null hypothesis: The mean of the sample_data is equal to population mean (µ = µ0)\n",
    "# Alternate hypothesis: The mean of the sample_data is not equal to population mean (µ ≠ µ0)\n",
    "\n",
    "# Population parameters\n",
    "population_mean = 30\n",
    "\n",
    "# Step 2: Calculate test statistic\n",
    "test_statistic, p_value = stats.ttest_1samp(sample_data, population_mean)\n",
    "\n",
    "print('Test Statistic: ', test_statistic)\n",
    "print('p-value: ', p_value)\n",
    "\n",
    "# Step 3 & 4: Make decision about null hypothesis\n",
    "alpha = 0.05 # significance level\n",
    "if p_value < alpha:\n",
    "    print(\"We reject the null hypothesis\")\n",
    "else:\n",
    "    print(\"We do not reject the null hypothesis\")"
   ]
  },
  {
   "cell_type": "markdown",
   "id": "d2cb4ba7-abfe-46f7-b7c3-956aafc57df9",
   "metadata": {},
   "source": [
    "In the script above:\n",
    "- `scipy.stats.ttest_1samp()` is used to perform the one-sample t-test, it returns the test statistic and the p-value.\n",
    "- `alpha` is the chosen significance level. If the p-value is less than alpha, we reject the null hypothesis.\n",
    "\n",
    "Remember, failing to reject the null hypothesis does not mean we accept it, it just means we do not have strong enough evidence to reject it. Also, the choice of alpha is somewhat arbitrary, but a level of 0.05 is very common in many fields of study."
   ]
  },
  {
   "cell_type": "markdown",
   "id": "43b471fe-c9b0-4ce3-b57e-1628b6f2d341",
   "metadata": {},
   "source": [
    "**Example 3: Chi-Square Test**\n",
    "\n",
    "Let's say you have a dataset from a survey of 300 people who are categorized by gender (male or female) and whether or not they are a smoker or a non-smoker. You want to test if gender is associated with smoking habits. This is a situation where a Chi-Square test for independence would be appropriate."
   ]
  },
  {
   "cell_type": "code",
   "execution_count": null,
   "id": "8ebaa03f-731e-4ca6-b4b9-1c497305f220",
   "metadata": {},
   "outputs": [],
   "source": [
    "# Importing necessary libraries\n",
    "import numpy as np\n",
    "import pandas as pd\n",
    "from scipy.stats import chi2_contingency\n",
    "\n",
    "# Creating a dataset\n",
    "data = {'Gender': ['Male', 'Male', 'Female', 'Female'],\n",
    "        'Smoker': ['Yes', 'No', 'Yes', 'No'],\n",
    "        'Count': [70, 80, 60, 90]}\n",
    "\n",
    "df = pd.DataFrame(data)\n",
    "\n",
    "# Creating contingency table\n",
    "contingency_table = pd.pivot_table(df, values='Count', index='Gender', columns='Smoker', aggfunc=np.sum, fill_value=0)\n",
    "\n",
    "# Chi-square test\n",
    "chi2, p_value, _, _ = chi2_contingency(contingency_table)\n",
    "\n",
    "print('Chi-square Statistic: ', chi2)\n",
    "print('p-value: ', p_value)\n",
    "\n",
    "# Decision making\n",
    "alpha = 0.05\n",
    "if p_value < alpha:\n",
    "    print(\"We reject the null hypothesis. There is an association between gender and smoking habits.\")\n",
    "else:\n",
    "    print(\"We do not reject the null hypothesis. There is no evidence of an association between gender and smoking habits.\")"
   ]
  },
  {
   "cell_type": "markdown",
   "id": "865ae208-6040-4789-a271-7c876e756eca",
   "metadata": {},
   "source": [
    "**Example 4: Mann-Whitney U Test**\n",
    "\n",
    "The Mann-Whitney U test is used to compare the distributions of two independent groups. Let's consider a case where we have test scores from two different classes, and we want to determine if there's a significant difference in the distributions of the scores. "
   ]
  },
  {
   "cell_type": "code",
   "execution_count": null,
   "id": "94814f94-5ab3-48ba-8140-a54cc7e133ac",
   "metadata": {},
   "outputs": [],
   "source": [
    "# Importing necessary libraries\n",
    "from scipy.stats import mannwhitneyu\n",
    "\n",
    "# Creating sample data\n",
    "class_A_scores = [79, 80, 78, 85, 72, 88, 90, 72, 83, 89]\n",
    "class_B_scores = [85, 88, 91, 82, 87, 93, 95, 89, 90, 92]\n",
    "\n",
    "# Performing Mann-Whitney U Test\n",
    "u_stat, p_value = mannwhitneyu(class_A_scores, class_B_scores)\n",
    "\n",
    "print('U statistic: ', u_stat)\n",
    "print('p-value: ', p_value)\n",
    "\n",
    "# Decision making\n",
    "alpha = 0.05\n",
    "if p_value < alpha:\n",
    "    print(\"We reject the null hypothesis. There is a significant difference in the distributions of scores between the two classes.\")\n",
    "else:\n",
    "    print(\"We do not reject the null hypothesis. There is no significant difference in the distributions of scores between the two classes.\")"
   ]
  },
  {
   "cell_type": "markdown",
   "id": "9b4826c5-4d18-4480-abb1-0303f629d575",
   "metadata": {},
   "source": [
    "**Example 5: Z-Test**\n",
    "\n",
    "Let's assume we have a large sample (n>30) of heights from a population of adult males and we know the population standard deviation. We want to know if the average height of our sample is significantly different from the known average height in the population. This is a scenario where a z-test would be appropriate. "
   ]
  },
  {
   "cell_type": "code",
   "execution_count": null,
   "id": "cb69a985-19f2-414f-9fe3-c60829e2bdbf",
   "metadata": {},
   "outputs": [],
   "source": [
    "# Importing necessary libraries\n",
    "import numpy as np\n",
    "from scipy.stats import norm\n",
    "\n",
    "# Creating sample data\n",
    "sample_heights = np.random.normal(loc=70, scale=4, size=100)  # Heights in inches\n",
    "\n",
    "# Known population parameters\n",
    "population_mean = 70  # Average height in population\n",
    "population_std_dev = 4  # Population standard deviation\n",
    "\n",
    "# Calculate the sample mean and standard deviation\n",
    "sample_mean = np.mean(sample_heights)\n",
    "sample_std_dev = np.std(sample_heights)\n",
    "\n",
    "# Calculate the z-score\n",
    "z_score = (sample_mean - population_mean) / (population_std_dev/np.sqrt(len(sample_heights)))\n",
    "\n",
    "# Calculate the p-value\n",
    "p_value = 2 * (1 - norm.cdf(abs(z_score)))\n",
    "\n",
    "print('Z-Score: ', z_score)\n",
    "print('P-Value: ', p_value)\n",
    "\n",
    "# Decision making\n",
    "alpha = 0.05\n",
    "if p_value < alpha:\n",
    "    print(\"We reject the null hypothesis. The sample mean is significantly different from the population mean.\")\n",
    "else:\n",
    "    print(\"We do not reject the null hypothesis. The sample mean is not significantly different from the population mean.\")"
   ]
  },
  {
   "cell_type": "markdown",
   "id": "412255d5-c6a1-4f78-96f6-cf745a9e03cc",
   "metadata": {},
   "source": [
    "**Example 6: ANOVA**\n",
    "\n",
    "Assume we have the results of an exam taken by students from three different classrooms and we want to see if there is a significant difference in the average score among these classrooms. In the ANOVA example, the null hypothesis is that the means of the scores from all three classrooms are equal, and the alternative hypothesis is that at least one classroom's mean score is different."
   ]
  },
  {
   "cell_type": "code",
   "execution_count": null,
   "id": "ecd92825-f450-4537-b2b9-b599e53544f8",
   "metadata": {},
   "outputs": [],
   "source": [
    "# Importing necessary libraries\n",
    "import scipy.stats as stats\n",
    "\n",
    "# Creating sample data\n",
    "classroom_A_scores = [88, 89, 76, 85, 90, 88]\n",
    "classroom_B_scores = [84, 87, 89, 90, 85, 86]\n",
    "classroom_C_scores = [91, 88, 85, 90, 92, 86]\n",
    "\n",
    "# Perform one-way ANOVA\n",
    "F_stat, p_value = stats.f_oneway(classroom_A_scores, classroom_B_scores, classroom_C_scores)\n",
    "\n",
    "print('F statistic: ', F_stat)\n",
    "print('P-value: ', p_value)\n",
    "\n",
    "# Decision making\n",
    "alpha = 0.05\n",
    "if p_value < alpha:\n",
    "    print(\"We reject the null hypothesis. There is a significant difference in the average scores among the classrooms.\")\n",
    "else:\n",
    "    print(\"We do not reject the null hypothesis. There is no significant difference in the average scores among the classrooms.\")"
   ]
  },
  {
   "cell_type": "markdown",
   "id": "201bcc75-7479-4f6e-8418-931704403c19",
   "metadata": {},
   "source": [
    "**Note:** \n",
    "- Ensure the conditions for each test are met before applying the appropriate test.\n",
    "- The p-value is a probability. In hypothesis testing, a p-value less than 0.05 is often used to indicate strong evidence against the null hypothesis."
   ]
  },
  {
   "cell_type": "markdown",
   "id": "0add58e0-67e8-423b-a17c-1d12cf939230",
   "metadata": {},
   "source": [
    "## Part 4: Confidence Intervals\n",
    "\n",
    "Confidence intervals are a crucial part of many statistical analyses. In essence, a confidence interval is a range of values that is likely to contain the value of an unknown population parameter.\n",
    "\n",
    "Let's say you're analyzing a sample from a population. You calculate the mean of your sample as an estimate of the population mean, but you acknowledge that your sample mean is just one of many possible estimates. You want to give a range of plausible values for the population mean. This range is a confidence interval.\n",
    "\n",
    "Here's a step-by-step example using Python:"
   ]
  },
  {
   "cell_type": "markdown",
   "id": "7eeab726-427a-4c78-9c88-71e9f0fd359a",
   "metadata": {},
   "source": [
    "1. Let's start by generating some random data to use as our population. For simplicity, we'll generate data from a normal distribution, but the process is the same for any distribution. We'll use numpy for this."
   ]
  },
  {
   "cell_type": "code",
   "execution_count": null,
   "id": "0a585ce0-32fd-4e92-93d2-36a41df6c968",
   "metadata": {},
   "outputs": [],
   "source": [
    "import numpy as np\n",
    "\n",
    "# Set a seed so you can get the same results\n",
    "np.random.seed(0)\n",
    "\n",
    "# Generate 1000 data points from a normal distribution with mean 0 and standard deviation 1\n",
    "population = np.random.normal(0, 1, 1000)"
   ]
  },
  {
   "cell_type": "markdown",
   "id": "97e7c02b-2434-40f1-8486-aded9b53ba2b",
   "metadata": {},
   "source": [
    "2. Now, let's take a sample from this population and calculate the sample mean. Let's say we take a sample of 50 data points."
   ]
  },
  {
   "cell_type": "code",
   "execution_count": null,
   "id": "3d427b41-e18e-43fd-8f8e-b88f50cd61d6",
   "metadata": {},
   "outputs": [],
   "source": [
    "sample_size = 50\n",
    "sample = np.random.choice(population, sample_size)\n",
    "sample_mean = np.mean(sample)\n",
    "print(f\"Sample Mean: {sample_mean}\")"
   ]
  },
  {
   "cell_type": "markdown",
   "id": "cf32a5c2-2df5-4054-b651-e9f55df9a811",
   "metadata": {},
   "source": [
    "3. The sample mean is our best estimate of the population mean. But we want a range of plausible values, i.e., a confidence interval. To calculate the confidence interval, we first need to calculate the standard error of the mean. The standard error is a measure of the variability in the sample mean. It is calculated as the standard deviation of the population divided by the square root of the sample size."
   ]
  },
  {
   "cell_type": "code",
   "execution_count": null,
   "id": "ef5e023b-08be-464b-a67c-da241486fb1d",
   "metadata": {},
   "outputs": [],
   "source": [
    "# Calculate standard error\n",
    "std_error = np.std(population) / np.sqrt(sample_size)\n",
    "print(f\"Standard Error: {std_error}\")"
   ]
  },
  {
   "cell_type": "markdown",
   "id": "2749ca54-43fc-4b09-8563-2d3b614a9108",
   "metadata": {},
   "source": [
    "4. Now we're ready to calculate the confidence interval. We will calculate a 95% confidence interval, which is the most commonly used interval. For a 95% confidence interval, and a normal distribution, we use 1.96 as the value from the Z-distribution (Z-score)."
   ]
  },
  {
   "cell_type": "code",
   "execution_count": null,
   "id": "e7ad0490-25d6-49ed-9eeb-d84eec67f24e",
   "metadata": {},
   "outputs": [],
   "source": [
    "# Calculate the 95% Confidence Interval\n",
    "confidence_interval = (sample_mean - 1.96*std_error, sample_mean + 1.96*std_error)\n",
    "print(f\"Confidence Interval: {confidence_interval}\")"
   ]
  },
  {
   "cell_type": "markdown",
   "id": "61b993f7-0b9a-4074-9441-975c8d27e09e",
   "metadata": {},
   "source": [
    "The interpretation of the above confidence interval is that we're 95% confident that the true population mean falls within this interval.\n",
    "\n",
    "**Notes:**\n",
    "1. We used numpy's random.choice function to select our sample. This function performs a random sampling.\n",
    "2. We've used 1.96 as our z-score for the 95% confidence interval. This is because, in a standard normal distribution, 95% of the data falls within 1.96 standard deviations of the mean.\n",
    "3. When the population standard deviation is not known (which is usually the case), we can use the sample standard deviation instead to calculate the standard error. Moreover, when the sample size is small (<30), a t-distribution is typically used instead of the z-distribution. For large sample sizes, the z and t distributions are virtually the same."
   ]
  }
 ],
 "metadata": {
  "kernelspec": {
   "display_name": "Python [conda env:anaconda3-Test]",
   "language": "python",
   "name": "conda-env-anaconda3-Test-py"
  },
  "language_info": {
   "codemirror_mode": {
    "name": "ipython",
    "version": 3
   },
   "file_extension": ".py",
   "mimetype": "text/x-python",
   "name": "python",
   "nbconvert_exporter": "python",
   "pygments_lexer": "ipython3",
   "version": "3.11.7"
  }
 },
 "nbformat": 4,
 "nbformat_minor": 5
}
